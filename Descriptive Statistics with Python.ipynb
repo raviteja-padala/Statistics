{
 "cells": [
  {
   "cell_type": "markdown",
   "id": "89c03779",
   "metadata": {},
   "source": [
    "#### Raviteja Padala\n",
    "<img align=\"left\" img src= in.png height = 20 width=\"20\"/>   https://www.linkedin.com/in/raviteja-padala/ <br>\n",
    "\n",
    "<img align=\"left\" img src= github.png height = 20 width=\"20\"/> https://github.com/raviteja-padala\n"
   ]
  },
  {
   "cell_type": "markdown",
   "id": "526e29fc",
   "metadata": {},
   "source": [
    "# **Objective:** To learn and explore Descriptive statistics using python."
   ]
  },
  {
   "cell_type": "markdown",
   "id": "d056bcd7",
   "metadata": {},
   "source": [
    "<a id=\"0\"></a>\n",
    "\n",
    "## Contents\n",
    "\n",
    "1. [Statistics](#1.Statistics) <br> \n",
    "\n",
    "2. [Python for Statistics](#2.Python_for_Statistics) <br>\n",
    "\n",
    "3. [Measure of Central Tendency](#3.Measure_of_Central_tendency)<br>\n",
    "    3.1. [Mean](#3.1.Mean)<br>\n",
    "    3.2. [Median](#3.2.Median)<br>\n",
    "    3.3. [Mode](#3.3.Mode)<br>\n",
    "4. [Measure of Dispersion](#4.Measure_Of_Dispersion)<br>\n",
    "   4.1 [Range](#4.1.Range)<br>\n",
    "   4.2 [Interquartile Range (IQR)](#4.2.Inter_Quartile_Range)<br>\n",
    "   4.3 [Variance](#4.3.Variance)<br>\n",
    "   4.4 [Standard Deviation](#4.4.Standard_Deviation)<br>\n",
    "   4.5 [Mean Absolute Deviation](#4.5.Mean_Absolute_Deviation)<br>\n",
    "   4.6 [Coefficient of Variation](#4.6.Coefficient_of_Variance)<br>\n",
    "5. [Measure of Relationship between Two variables](#5.Measure_of_Relationship_between_Two_variables)<br>\n",
    "    5.1 [covariance](#5.1.covariance)<br>\n",
    "    5.2 [correlation](#5.2.correlation)<br>  \n",
    "6. [Quantiles](#6.Quantiles)<br>\n",
    "7. [Five number summary](#7.Five_number_summary)<br>\n",
    "8. [Skewness](#8.Skewness)<br>\n",
    "9. [Kurtosis](#9.Kurtosis)<br>\n",
    "10. [Histogram](#10.Histogram)<br>\n",
    "11. [Bar_graphs](#11.Bar_Graphs)<br>\n",
    "12. [Pie Charts](#12.Pie_Charts)<br>\n",
    "13. [Scatter plots](#13.Scatter_plots)<br>\n",
    "14. [Box_plots](#14.Box_Plots)<br>\n"
   ]
  },
  {
   "cell_type": "markdown",
   "id": "f68a9b43",
   "metadata": {},
   "source": [
    "## 1.Statistics"
   ]
  },
  {
   "cell_type": "markdown",
   "id": "c1446196",
   "metadata": {},
   "source": [
    "* A famous qoute - “Facts are stubborn things, but statistics are pliable.”<br>\n",
    "* Statistics is the science of collecting, organizing, analyzing, and interpreting data. Statistic is a way of collection of the data, tabulation, and interpolation of data.\n",
    "\n",
    "### Descriptive Statistics: \n",
    "* Descriptive statistics are brief informational coefficients that summarize a given data set, which can be either a representation of the entire population or a sample of a population. "
   ]
  },
  {
   "cell_type": "markdown",
   "id": "181d5f81",
   "metadata": {},
   "source": [
    "## 2.Python_for_Statistics"
   ]
  },
  {
   "cell_type": "markdown",
   "id": "074d1d1b",
   "metadata": {},
   "source": [
    "* Python's ease of use and straightforward syntax are two of the key reasons it is so popular in the scientific and research fields. Python's powerful libraries, simplicity, community support, integration capabilities, reproducibility features, and flexibility contribute to its popularity as a language for statistical analysis."
   ]
  },
  {
   "cell_type": "markdown",
   "id": "d4069ce5",
   "metadata": {},
   "source": [
    "## 3.Measure_of_Central_tendency"
   ]
  },
  {
   "cell_type": "markdown",
   "id": "5f1117f9",
   "metadata": {},
   "source": [
    "* A measure of central tendency is a statistical summary that represents the center or typical value of a dataset. It provides a single value that summarizes the distribution of data by identifying the point around which the data tend to cluster.\n",
    "\n",
    "\n",
    "* Three commonly used measures of central tendency are:\n",
    "\n",
    "\n",
    "* Mean\n",
    "* Median\n",
    "* Mode"
   ]
  },
  {
   "cell_type": "markdown",
   "id": "f89cdbaf",
   "metadata": {},
   "source": [
    "\n",
    "<img src= central.gif height = 400 width=\"600\"/>\n"
   ]
  },
  {
   "cell_type": "markdown",
   "id": "9aee32a6",
   "metadata": {},
   "source": [
    "### 3.1.Mean\n",
    "<br>\n",
    "Mean or Average is the sum of the data divided by the number of data points."
   ]
  },
  {
   "cell_type": "code",
   "execution_count": 1,
   "id": "00941825",
   "metadata": {},
   "outputs": [
    {
     "name": "stdout",
     "output_type": "stream",
     "text": [
      "The average or mean of sample_list values is : 2.25\n"
     ]
    }
   ],
   "source": [
    "#importing required libraries\n",
    "import statistics\n",
    "\n",
    "# sample list\n",
    "sample_list = [1, 2, 3, 4, 2, 2, 3, 1]\n",
    "\n",
    "# mean() to calculate mean or average of list \n",
    "\n",
    "print (\"The average or mean of sample_list values is : \",end=\"\")\n",
    "print (statistics.mean(sample_list))"
   ]
  },
  {
   "cell_type": "code",
   "execution_count": 2,
   "id": "b84159cb",
   "metadata": {},
   "outputs": [
    {
     "name": "stdout",
     "output_type": "stream",
     "text": [
      "The average of list values is : 2.25\n"
     ]
    }
   ],
   "source": [
    "#calculation of mean by creating a function\n",
    "\n",
    "def find_mean(list):\n",
    "    sum_list = sum(list)\n",
    "    len_list = len(list)\n",
    "    return sum_list/len_list \n",
    "\n",
    "#calling function find_mean\n",
    "print (\"The average of list values is : \",end=\"\")  \n",
    "print (find_mean(sample_list))  "
   ]
  },
  {
   "cell_type": "code",
   "execution_count": 3,
   "id": "666906b8",
   "metadata": {},
   "outputs": [
    {
     "name": "stdout",
     "output_type": "stream",
     "text": [
      "Sum of all data is  sample_list = 18\n",
      "No_of_data_points in sample_list = 8\n",
      "Mean of sample_list= 2.25\n"
     ]
    }
   ],
   "source": [
    "#calculation using formula of mean\n",
    "#mean =  sum of the data divided by the number of data points.\n",
    "\n",
    "sample_list = [1, 2, 3, 4, 2, 2, 3, 1]\n",
    "\n",
    "#sum of sample list\n",
    "sum_sample_list = sum(sample_list)\n",
    "print (\"Sum of all data is  sample_list =\", sum_sample_list)\n",
    "\n",
    "No_of_data_points = 8\n",
    "print (\"No_of_data_points in sample_list =\", No_of_data_points)\n",
    "\n",
    "mean_sample_list = sum_sample_list/No_of_data_points\n",
    "print(\"Mean of sample_list=\", mean_sample_list)\n"
   ]
  },
  {
   "cell_type": "markdown",
   "id": "39c111ea",
   "metadata": {},
   "source": [
    "### 3.2.Median\n",
    "<br>\n",
    "\n",
    "* Median represents the middle value of the dataset which splits the data into the two halves.<br> \n",
    "\n",
    "* Median is calculated by calculating the average of two central elements in case of even dataset otherwise the central element would be odd. <br>\n",
    "\n",
    "* The median is a robust measure of central location and is less affected by the presence of outliers. "
   ]
  },
  {
   "cell_type": "code",
   "execution_count": 4,
   "id": "ab1cea8a",
   "metadata": {},
   "outputs": [
    {
     "name": "stdout",
     "output_type": "stream",
     "text": [
      "The  median of sample_list values is : 2.0\n"
     ]
    }
   ],
   "source": [
    "# sample list\n",
    "sample_list = [1, 2, 3, 4, 2, 2, 3, 1]\n",
    "\n",
    "# median() to calculate median of sample list \n",
    "\n",
    "print (\"The  median of sample_list values is : \",end=\"\")\n",
    "print (statistics.median(sample_list))"
   ]
  },
  {
   "cell_type": "code",
   "execution_count": 5,
   "id": "a96e9c07",
   "metadata": {},
   "outputs": [
    {
     "name": "stdout",
     "output_type": "stream",
     "text": [
      "The median of sample_list_ODD values is : 2\n",
      "The median of sample_list_EVEN values is : 2.5\n"
     ]
    }
   ],
   "source": [
    "sample_list_odd = [1, 2, 3]\n",
    "sample_list_even = [1,2,3,4]\n",
    "\n",
    "print (\"The median of sample_list_ODD values is : \",end=\"\")\n",
    "print (statistics.median(sample_list_odd))\n",
    "\n",
    "print (\"The median of sample_list_EVEN values is : \",end=\"\")\n",
    "print (statistics.median(sample_list_even))\n"
   ]
  },
  {
   "cell_type": "markdown",
   "id": "063b5b64",
   "metadata": {},
   "source": [
    "### 3.3.Mode\n",
    "<br>\n",
    "* Mode is the most often occurring value in the given data collection. If the frequency of all data points is the same, the data set may not have a mode."
   ]
  },
  {
   "cell_type": "code",
   "execution_count": 6,
   "id": "c1276a9a",
   "metadata": {},
   "outputs": [
    {
     "name": "stdout",
     "output_type": "stream",
     "text": [
      "The mode of sample_list values is : 2\n"
     ]
    }
   ],
   "source": [
    "# sample list\n",
    "sample_list = [1, 2, 3, 4, 2, 2, 3, 1]\n",
    "\n",
    "# mode() to calculate mode of list \n",
    "\n",
    "print (\"The mode of sample_list values is : \",end=\"\")\n",
    "print (statistics.mode(sample_list))"
   ]
  },
  {
   "cell_type": "markdown",
   "id": "89f52979",
   "metadata": {},
   "source": [
    "## 4.Measure_Of_Dispersion\n",
    "<br>\n",
    " Measure Of Dispersion or Measure of variability states how well our data is distributed. Below is the most common variability measure.\n",
    "\n",
    "* Range\n",
    "* Interquartile Range (IQR)\n",
    "* Variance\n",
    "* Standard deviation\n",
    "* Mean Absolute Deviation\n",
    "* Coefficient of Variation \n"
   ]
  },
  {
   "cell_type": "markdown",
   "id": "c04f30a3",
   "metadata": {},
   "source": [
    "<img src= Dispersion.png height = 400 width=\"600\"/>\n"
   ]
  },
  {
   "cell_type": "markdown",
   "id": "879b61ea",
   "metadata": {},
   "source": [
    "### 4.1.Range\n",
    "<br>\n",
    "\n",
    "* The range is the simplest measure of dispersion and is calculated as the difference between the maximum and minimum values in the dataset. It provides a rough estimate of the spread but is sensitive to extreme values. <br>\n",
    "\n",
    "* The bigger the range value more the spread of data or vice versa.\n",
    "\n",
    "* Range = Largest data value - smallest data value\n"
   ]
  },
  {
   "cell_type": "code",
   "execution_count": 7,
   "id": "002a2449",
   "metadata": {},
   "outputs": [
    {
     "name": "stdout",
     "output_type": "stream",
     "text": [
      "Maximum is = 4, Minimum is = 1 and Range is = 3\n"
     ]
    }
   ],
   "source": [
    "sample_list = [1, 2, 3, 4, 2, 2, 3, 1]\n",
    "\n",
    "# getting Max  \n",
    "maximum = max(sample_list) \n",
    "\n",
    "# getting Min  \n",
    "minimum = min(sample_list)  \n",
    "  \n",
    "# Difference Of Max and Min  \n",
    "Range = maximum-minimum   \n",
    "print(\"Maximum is = {}, Minimum is = {} and Range is = {}\".format(maximum, minimum, Range))  "
   ]
  },
  {
   "cell_type": "markdown",
   "id": "8fbc6ffa",
   "metadata": {},
   "source": [
    "### 4.2.Inter_Quartile_Range\n",
    "<br>\n",
    "\n",
    "* (Inter_Quartile_Range)IQR is a measure of dispersion that focuses on the spread of the middle 50% of the data. It is calculated as the difference between the third quartile Q3 (75th percentile) and the first quartile Q1 (25th percentile). The IQR is less affected by extreme values or outliers and provides a robust measure of spread. Outliers here are defined as observations that fall below Q1 − 1.5 IQR or above Q3 + 1.5 IQR. <br>\n",
    "\n",
    "* IQR = Q3-Q1\n"
   ]
  },
  {
   "cell_type": "markdown",
   "id": "62a82727",
   "metadata": {},
   "source": [
    "<img src= iqr.png height = 100 width=\"400\"/>"
   ]
  },
  {
   "cell_type": "code",
   "execution_count": 8,
   "id": "b286b2df",
   "metadata": {},
   "outputs": [
    {
     "data": {
      "text/html": [
       "<div>\n",
       "<style scoped>\n",
       "    .dataframe tbody tr th:only-of-type {\n",
       "        vertical-align: middle;\n",
       "    }\n",
       "\n",
       "    .dataframe tbody tr th {\n",
       "        vertical-align: top;\n",
       "    }\n",
       "\n",
       "    .dataframe thead th {\n",
       "        text-align: right;\n",
       "    }\n",
       "</style>\n",
       "<table border=\"1\" class=\"dataframe\">\n",
       "  <thead>\n",
       "    <tr style=\"text-align: right;\">\n",
       "      <th></th>\n",
       "      <th>Salary</th>\n",
       "    </tr>\n",
       "  </thead>\n",
       "  <tbody>\n",
       "    <tr>\n",
       "      <th>0</th>\n",
       "      <td>1000</td>\n",
       "    </tr>\n",
       "    <tr>\n",
       "      <th>1</th>\n",
       "      <td>2000</td>\n",
       "    </tr>\n",
       "    <tr>\n",
       "      <th>2</th>\n",
       "      <td>3000</td>\n",
       "    </tr>\n",
       "    <tr>\n",
       "      <th>3</th>\n",
       "      <td>4000</td>\n",
       "    </tr>\n",
       "    <tr>\n",
       "      <th>4</th>\n",
       "      <td>5000</td>\n",
       "    </tr>\n",
       "    <tr>\n",
       "      <th>5</th>\n",
       "      <td>6000</td>\n",
       "    </tr>\n",
       "    <tr>\n",
       "      <th>6</th>\n",
       "      <td>7000</td>\n",
       "    </tr>\n",
       "    <tr>\n",
       "      <th>7</th>\n",
       "      <td>8000</td>\n",
       "    </tr>\n",
       "    <tr>\n",
       "      <th>8</th>\n",
       "      <td>9000</td>\n",
       "    </tr>\n",
       "    <tr>\n",
       "      <th>9</th>\n",
       "      <td>20000</td>\n",
       "    </tr>\n",
       "  </tbody>\n",
       "</table>\n",
       "</div>"
      ],
      "text/plain": [
       "   Salary\n",
       "0    1000\n",
       "1    2000\n",
       "2    3000\n",
       "3    4000\n",
       "4    5000\n",
       "5    6000\n",
       "6    7000\n",
       "7    8000\n",
       "8    9000\n",
       "9   20000"
      ]
     },
     "execution_count": 8,
     "metadata": {},
     "output_type": "execute_result"
    }
   ],
   "source": [
    "#importing pandas library\n",
    "import pandas as pd\n",
    "\n",
    "#creating a sample dataframe\n",
    "sample = pd.DataFrame([[1000],[2000],[3000],[4000],[5000],[6000],[7000],[8000],[9000],[20000]] , columns=['Salary'])\n",
    "sample"
   ]
  },
  {
   "cell_type": "code",
   "execution_count": 9,
   "id": "68ee3cd6",
   "metadata": {},
   "outputs": [
    {
     "name": "stdout",
     "output_type": "stream",
     "text": [
      "Q3  = 7750.0, Q1  = 3250.0 and IQR  = 4500.0\n"
     ]
    }
   ],
   "source": [
    " #importing numpy library\n",
    "import numpy as np\n",
    "Q1, Q3 = np.quantile(sample , [0.25,0.75])\n",
    "\n",
    "IQR = Q3 - Q1\n",
    "print(\"Q3  = {}, Q1  = {} and IQR  = {}\".format( Q3, Q1, IQR))  "
   ]
  },
  {
   "cell_type": "code",
   "execution_count": 10,
   "id": "21ad113f",
   "metadata": {},
   "outputs": [
    {
     "name": "stdout",
     "output_type": "stream",
     "text": [
      "Q3  = 7750.0, Q1  = 3250.0 \n",
      "IQR= 4500.0\n"
     ]
    }
   ],
   "source": [
    "#using pandas to calculate quartiles\n",
    "\n",
    "print(\"Q3  = {}, Q1  = {} \".format(sample['Salary'].quantile(0.75), sample['Salary'].quantile(0.25) ))  \n",
    "print(\"IQR=\", sample['Salary'].quantile(0.75)-sample['Salary'].quantile(0.25))"
   ]
  },
  {
   "cell_type": "code",
   "execution_count": 11,
   "id": "16012813",
   "metadata": {},
   "outputs": [
    {
     "name": "stdout",
     "output_type": "stream",
     "text": [
      "IQR= 4500.0\n"
     ]
    }
   ],
   "source": [
    "#calculation of IQR using scipy stats iqr()\n",
    "\n",
    "from scipy import stats\n",
    "\n",
    "values = [1000,2000,3000,4000,5000,6000,7000,8000,9000,20000]\n",
    "\n",
    "iqr_values = stats.iqr(values)\n",
    "\n",
    "print(\"IQR=\", iqr_values)"
   ]
  },
  {
   "cell_type": "code",
   "execution_count": 12,
   "id": "9b0ec9c1",
   "metadata": {},
   "outputs": [
    {
     "data": {
      "text/html": [
       "<div>\n",
       "<style scoped>\n",
       "    .dataframe tbody tr th:only-of-type {\n",
       "        vertical-align: middle;\n",
       "    }\n",
       "\n",
       "    .dataframe tbody tr th {\n",
       "        vertical-align: top;\n",
       "    }\n",
       "\n",
       "    .dataframe thead th {\n",
       "        text-align: right;\n",
       "    }\n",
       "</style>\n",
       "<table border=\"1\" class=\"dataframe\">\n",
       "  <thead>\n",
       "    <tr style=\"text-align: right;\">\n",
       "      <th></th>\n",
       "      <th>Salary</th>\n",
       "    </tr>\n",
       "  </thead>\n",
       "  <tbody>\n",
       "    <tr>\n",
       "      <th>count</th>\n",
       "      <td>10.000000</td>\n",
       "    </tr>\n",
       "    <tr>\n",
       "      <th>mean</th>\n",
       "      <td>6500.000000</td>\n",
       "    </tr>\n",
       "    <tr>\n",
       "      <th>std</th>\n",
       "      <td>5400.617249</td>\n",
       "    </tr>\n",
       "    <tr>\n",
       "      <th>min</th>\n",
       "      <td>1000.000000</td>\n",
       "    </tr>\n",
       "    <tr>\n",
       "      <th>25%</th>\n",
       "      <td>3250.000000</td>\n",
       "    </tr>\n",
       "    <tr>\n",
       "      <th>50%</th>\n",
       "      <td>5500.000000</td>\n",
       "    </tr>\n",
       "    <tr>\n",
       "      <th>75%</th>\n",
       "      <td>7750.000000</td>\n",
       "    </tr>\n",
       "    <tr>\n",
       "      <th>max</th>\n",
       "      <td>20000.000000</td>\n",
       "    </tr>\n",
       "  </tbody>\n",
       "</table>\n",
       "</div>"
      ],
      "text/plain": [
       "             Salary\n",
       "count     10.000000\n",
       "mean    6500.000000\n",
       "std     5400.617249\n",
       "min     1000.000000\n",
       "25%     3250.000000\n",
       "50%     5500.000000\n",
       "75%     7750.000000\n",
       "max    20000.000000"
      ]
     },
     "execution_count": 12,
     "metadata": {},
     "output_type": "execute_result"
    }
   ],
   "source": [
    "# describe() shows the basic statistics in pandas\n",
    "sample.describe()"
   ]
  },
  {
   "cell_type": "markdown",
   "id": "38230ad9",
   "metadata": {},
   "source": [
    "### 4.3.Variance\n",
    "\n",
    "* Variance indicates how close to or how far from the mean are most of the values of our data.\n",
    "* The variance measures the average squared deviation of each data point from the mean. It is calculated by taking the sum of the squared differences between each data point and the mean, divided by the total number of data points. The variance provides an indication of the overall spread but is influenced by extreme values."
   ]
  },
  {
   "cell_type": "code",
   "execution_count": 13,
   "id": "e92cb864",
   "metadata": {},
   "outputs": [
    {
     "name": "stdout",
     "output_type": "stream",
     "text": [
      "Variance of Sample list is: 1.0714285714285714 \n"
     ]
    }
   ],
   "source": [
    "#calculation of variance using variance()\n",
    "sample_list = [1, 2, 3, 4, 2, 2, 3, 1]\n",
    "\n",
    "print(\"Variance of Sample list is: % s \" % (statistics.variance(sample_list)))  "
   ]
  },
  {
   "cell_type": "markdown",
   "id": "92219750",
   "metadata": {},
   "source": [
    "<img src= var_formula.png height = 200 width=\"400\"/>"
   ]
  },
  {
   "attachments": {
    "image.png": {
     "image/png": "[encoded data removed]"
    }
   },
   "cell_type": "markdown",
   "id": "e9b499df",
   "metadata": {},
   "source": [
    "### Calculation of Variance using formula\n",
    "![image.png](attachment:image.png)"
   ]
  },
  {
   "cell_type": "code",
   "execution_count": 14,
   "id": "1f08bf43",
   "metadata": {},
   "outputs": [
    {
     "name": "stdout",
     "output_type": "stream",
     "text": [
      "Variance of Sample list using formula calculation is: 1.0714285714285714\n"
     ]
    }
   ],
   "source": [
    "#creating a function to calculate variance\n",
    "def var(sample_data):\n",
    "    '''This function takes list/array as an input and calculates and returns its variance.'''\n",
    "    \n",
    "    # Number of observations\n",
    "    n = len(sample_data)\n",
    "    \n",
    "    # Mean of the data\n",
    "    mean = sum(sample_data) / n\n",
    "    \n",
    "    # Square deviations\n",
    "    deviations = [(x - mean) ** 2 for x in sample_data]\n",
    "    \n",
    "    # Variance\n",
    "    vari = sum(deviations) / (n-1)\n",
    "    return vari\n",
    "\n",
    "\n",
    "print(\"Variance of Sample list using formula calculation is:\", var(sample_list))"
   ]
  },
  {
   "cell_type": "markdown",
   "id": "481c044c",
   "metadata": {},
   "source": [
    "## 4.4.Standard_Deviation\n",
    "\n",
    "* The standard deviation is the square root of the variance. \n",
    "* It measures the average deviation of each data point from the mean. \n",
    "* The standard deviation is widely used as a measure of dispersion and is preferred over the variance as it is expressed in the same units as the original data.\n",
    "\n"
   ]
  },
  {
   "cell_type": "markdown",
   "id": "28c2e3d9",
   "metadata": {},
   "source": [
    "<img src= sd.png height = 200 width=\"400\"/>"
   ]
  },
  {
   "cell_type": "code",
   "execution_count": 15,
   "id": "60fbab43",
   "metadata": {},
   "outputs": [
    {
     "name": "stdout",
     "output_type": "stream",
     "text": [
      "Standard deviation of Sample list is: 1.0350983390135313 \n"
     ]
    }
   ],
   "source": [
    "#calculation of Standard deviation using stdev()\n",
    "sample_list = [1, 2, 3, 4, 2, 2, 3, 1]\n",
    "\n",
    "print(\"Standard deviation of Sample list is: % s \" % (statistics.stdev(sample_list)))  "
   ]
  },
  {
   "attachments": {
    "image.png": {
     "image/png": "[encoded data removed]"
    }
   },
   "cell_type": "markdown",
   "id": "36915a66",
   "metadata": {},
   "source": [
    "## 4.5.Mean_Absolute_Deviation\n",
    "\n",
    "* Mean Absolute Deviation calculates the average absolute deviation of each data point from the mean. It is computed by taking the sum of the absolute differences between each data point and the mean, divided by the total number of data points. \n",
    "* The Mean Absolute Deviation is less influenced by extreme values and provides a robust measure of dispersion.\n",
    "\n",
    "* The formula for Mean Absolute Deviation (MAD) is as follows:\n",
    "\n",
    " ![image.png](attachment:image.png)\n",
    " \n",
    "Where\n",
    "m(X)\t=\taverage value of the data set <br>\n",
    "n\t    =\tnumber of data values<br>\n",
    "Xi \t=\tdata values in the set<br>"
   ]
  },
  {
   "cell_type": "code",
   "execution_count": 16,
   "id": "228a26d9",
   "metadata": {},
   "outputs": [
    {
     "name": "stdout",
     "output_type": "stream",
     "text": [
      "Mean Absolute Deviation(MAD)= 0.8125\n"
     ]
    }
   ],
   "source": [
    "sample_list = [1, 2, 3, 4, 2, 2, 3, 1]\n",
    "  \n",
    "# creating series\n",
    "series = pd.Series(sample_list)\n",
    "  \n",
    "# calling .mad() method\n",
    "result = series.mad()\n",
    "\n",
    "print(\"Mean Absolute Deviation(MAD)=\", result)"
   ]
  },
  {
   "cell_type": "markdown",
   "id": "771a6c9e",
   "metadata": {},
   "source": [
    "## 4.6.Coefficient_of_Variance\n",
    "\n",
    "* Coefficient of Variation is a relative measure of dispersion that expresses the standard deviation (or the MAD) as a percentage of the mean. \n",
    "* It is calculated by dividing the standard deviation by the mean. \n",
    "* The Coefficient of Variation allows for comparison of dispersion across datasets with different scales.\n",
    "* A high coefficient of variation indicates that the level of dispersion around the mean of the data is higher.\n",
    "\n",
    "**Coefficient of Variation(CV) = σ / μ**\n",
    "<br>\n",
    "where: σ: The standard deviation of dataset. μ: The mean of dataset."
   ]
  },
  {
   "cell_type": "code",
   "execution_count": 17,
   "id": "d86131aa",
   "metadata": {},
   "outputs": [
    {
     "name": "stdout",
     "output_type": "stream",
     "text": [
      "Coefficient of variation(CV)= 0.46004370622823615\n"
     ]
    }
   ],
   "source": [
    "# Coefficient of variation\n",
    "cv = statistics.stdev(sample_list) / statistics.mean(sample_list)\n",
    "\n",
    "\n",
    "print(\"Coefficient of variation(CV)=\", cv)"
   ]
  },
  {
   "cell_type": "markdown",
   "id": "d087e4f3",
   "metadata": {},
   "source": [
    "#### Difference between Coefficient of variation and Standerd deviation\n",
    "\n",
    "| Coefficient of Variation | Standard deviation |\n",
    "| --- | --- | \n",
    "| It is a relative measure of dispersion. | It is an absolute measure of dispersion.|\n",
    "| It measures the ratio of the standard deviation to the mean.|It measures how far a data point lies from the mean.|\n",
    "|Coefficient of variation is usually used to compare the variation of different data sets.|Standard deviation is used to measure the dispersion of data in a single data set.|"
   ]
  },
  {
   "cell_type": "markdown",
   "id": "4343d02a",
   "metadata": {},
   "source": [
    "## 5.Measure_of_Relationship_between_Two_variables\n",
    "\n",
    "* The measure of relationship between two variables refers to a statistical metric that quantifies the association or correlation between two variables. It provides information about how the values of one variable change in relation to the values of another variable.\n",
    "<br>\n",
    "\n",
    "* The measure of relationship is important because it helps us understand the strength and direction of the relationship between the variables under study. It allows us to assess whether the variables are related, and if so, to what extent."
   ]
  },
  {
   "attachments": {
    "image.png": {
     "image/png": "[encoded data removed]"
    }
   },
   "cell_type": "markdown",
   "id": "aedd925d",
   "metadata": {},
   "source": [
    "### 5.1.covariance\n",
    "\n",
    "* Covariance is a measure of the relationship between two random variables and to what extent, they change together.\n",
    "\n",
    "**Formula:**\n",
    "* ![image.png](attachment:image.png)\n",
    "cov_{x,y}\t=\tcovariance between variable x and y <br>\n",
    "xi\t=\tdata value of x <br>\n",
    "yi  =\tdata value of y <br>\n",
    "X̄\t=\tmean of x <br>\n",
    "Ȳ\t=\tmean of y <br>\n",
    "N\t=\tnumber of data values <br>\n",
    "\n",
    "\n"
   ]
  },
  {
   "cell_type": "markdown",
   "id": "a39805d4",
   "metadata": {},
   "source": [
    "* Positive Covariance: A positive covariance between two variables indicates that these variables tend to be higher or lower at the same time.\n",
    "E.x. Income and Expense of Household. As X takes a higher value, the corresponding values of Y is on the higher side\n",
    "<br>\n",
    "\n",
    "* Negative Covariance: When the calculated covariance is less than negative, this indicates that the two variables have an inverse relationship. \n",
    "Example: Price and Demand. As the Price of a commodity increases, its Demand decreases.\n",
    "<br>\n",
    "\n",
    "* Zero Covariance or No Covariance: There is no linear relationship between variable(X) and variable(Y).\n",
    "Note: The Zero Covariance means the covariance will be zero or near zero\n",
    "\n"
   ]
  },
  {
   "cell_type": "code",
   "execution_count": 18,
   "id": "13e39068",
   "metadata": {},
   "outputs": [
    {
     "data": {
      "text/plain": [
       "0.75"
      ]
     },
     "execution_count": 18,
     "metadata": {},
     "output_type": "execute_result"
    }
   ],
   "source": [
    "#Calculation of covariance using formula\n",
    "\n",
    "def cov_value(x,y):\n",
    "    \n",
    "    #calculation of mean\n",
    "    mean_x = sum(x) / float(len(x))\n",
    "    mean_y = sum(y) / float(len(y))\n",
    "    \n",
    "    \n",
    "    #caculation of (xi-X̄) and (yi-Ȳ)\n",
    "    sub_x = [i - mean_x for i in x]\n",
    "    sub_y = [i - mean_y for i in y]\n",
    "\n",
    "    sum_value = sum([sub_y[i]*sub_x[i] for i in range(len(x))])\n",
    "    denomenator = float(len(x)-1)\n",
    "    \n",
    "    cov = sum_value/denomenator\n",
    "    return cov\n",
    "\n",
    "x = [1, 2, 3, 4, 5, 6, 7, 8, 9]\n",
    "y = [1, 2, 3, 1, 2, 3, 1, 2, 3]\n",
    "cov_value(x, y)"
   ]
  },
  {
   "cell_type": "code",
   "execution_count": 19,
   "id": "202677dd",
   "metadata": {},
   "outputs": [
    {
     "data": {
      "text/plain": [
       "array([[7.5 , 0.75],\n",
       "       [0.75, 0.75]])"
      ]
     },
     "execution_count": 19,
     "metadata": {},
     "output_type": "execute_result"
    }
   ],
   "source": [
    "#The covariance may be computed using the Numpy function np.cov(). \n",
    "#np.cov(x, y) returns a 2D array where entries [0,1] and [1,0] are the covariances. \n",
    "#Entry [0,0] is the variance of the data in x, and entry [1,1] is the variance of the data in y. \n",
    "#This 2D output array is called the covariance matrix, since it organizes the self- and covariance.\n",
    "np.cov(x, y)"
   ]
  },
  {
   "cell_type": "markdown",
   "id": "9bc9c17c",
   "metadata": {},
   "source": [
    "#### Interpretation of covariance value:\n",
    "\n",
    "\n",
    "* A covariance value of 0.75 indicates a positive relationship between two variables. Covariance measures the direction and magnitude of the relationship between variables. In this case, a positive covariance suggests that as one variable increases, the other variable tends to increase as well, and vice versa.\n",
    "\n",
    "* However, it's important to note that the magnitude of covariance alone doesn't provide a standardized measure of the strength of the relationship. Covariance is influenced by the units of measurement of the variables, making it difficult to compare the strength of relationships across different studies or variables.\n",
    "\n",
    "* To obtain a standardized measure of the relationship strength, the correlation coefficient is commonly used. The correlation coefficient is obtained by dividing the covariance by the product of the standard deviations of the two variables. It ranges between -1 and 1, where 0 indicates no linear relationship, 1 indicates a perfect positive linear relationship, and -1 indicates a perfect negative linear relationship.\n",
    "\n",
    "* Therefore, if the covariance between two variables is 0.75, it suggests a positive relationship, but to determine the strength and direction precisely, you would need to calculate the correlation coefficient using the formula mentioned above."
   ]
  },
  {
   "cell_type": "markdown",
   "id": "9d5e4869",
   "metadata": {},
   "source": [
    "### 5.2.correlation"
   ]
  },
  {
   "cell_type": "markdown",
   "id": "dad22632",
   "metadata": {},
   "source": [
    "* Correlation is a way of establishing the relationship/association between two variables.\n",
    "\n",
    "* Correlation is measured numerically using the correlation coefficient. \n",
    "\n",
    "* The correlation coefficient lies between -1 and 1.\n",
    "\n",
    "* A negative correlation coefficient indicates that the relationship between two variables is inverse. \n",
    "\n",
    "* A positive correlation coefficient indicates that the value of one variable depends on the other variable directly. \n",
    "\n",
    "* A zero-correlation coefficient indicates that there is no correlation between both variables."
   ]
  },
  {
   "attachments": {
    "image-2.png": {
     "image/png": "[encoded data removed]"
    }
   },
   "cell_type": "markdown",
   "id": "e8f424c6",
   "metadata": {},
   "source": [
    "**Formula:**\n",
    "* The correlation coefficient is covariance divided by the product of the two variables' standard deviations.\n",
    "\n",
    "![image-2.png](attachment:image-2.png)\n"
   ]
  },
  {
   "cell_type": "code",
   "execution_count": 20,
   "id": "b0771b73",
   "metadata": {},
   "outputs": [
    {
     "name": "stdout",
     "output_type": "stream",
     "text": [
      "The pearson's coeffient of the x and y inputs are: \n",
      " [[1.         0.13633524]\n",
      " [0.13633524 1.        ]]\n"
     ]
    }
   ],
   "source": [
    "x = [11, 2, 7, 4, 15, 6, 10, 8, 9, 1, 11, 5, 13, 6]\n",
    "y = [2, 5, 17, 6, 10, 8, 13, 4, 6, 9, 11, 2, 5, 4]\n",
    "\n",
    "# to return the upper three quartiles\n",
    "pearsons_coefficient = np.corrcoef(x, y)\n",
    "print(\"The pearson's coeffient of the x and y inputs are: \\n\" ,pearsons_coefficient)"
   ]
  },
  {
   "cell_type": "markdown",
   "id": "dc11c611",
   "metadata": {},
   "source": [
    "* corrcoef() returns the correlation matrix, which is a two-dimensional array with the correlation coefficients. \n",
    "* The values on the main diagonal of the correlation matrix (upper left and lower right) are equal to 1. The upper left value corresponds to the correlation coefficient for x and x, while the lower right value is the correlation coefficient for y and y. They are always equal to 1.\n",
    "*  lower left and upper right values of the correlation matrix values are equal and both represent the Pearson correlation coefficient for x and y. In this case, it’s approximately 0.13."
   ]
  },
  {
   "cell_type": "code",
   "execution_count": 21,
   "id": "cac2d09f",
   "metadata": {},
   "outputs": [
    {
     "name": "stdout",
     "output_type": "stream",
     "text": [
      "The pearson's coeffient of x and y is 0.13633523616723586\n",
      "The pearson's coeffient of x and x is 1.0\n"
     ]
    }
   ],
   "source": [
    "def Pearson_correlation(X,Y):\n",
    "    if len(X)==len(Y):\n",
    "        Sum_xy = sum((X-X.mean())*(Y-Y.mean()))\n",
    "        Sum_x_squared = sum((X-X.mean())**2)\n",
    "        Sum_y_squared = sum((Y-Y.mean())**2)      \n",
    "        corr = Sum_xy / np.sqrt(Sum_x_squared * Sum_y_squared)\n",
    "    return corr\n",
    "             \n",
    "\n",
    "x1 = np.array([11, 2, 7, 4, 15, 6, 10, 8, 9, 1, 11, 5, 13, 6])\n",
    "y1 = np.array([2, 5, 17, 6, 10, 8, 13, 4, 6, 9, 11, 2, 5, 4])\n",
    "print(\"The pearson's coeffient of x and y is\", Pearson_correlation(x1,y1))   \n",
    "print(\"The pearson's coeffient of x and x is\", Pearson_correlation(x1,x1))"
   ]
  },
  {
   "cell_type": "markdown",
   "id": "ff0a0921",
   "metadata": {},
   "source": [
    "#### Interpreting a correlation:\n",
    "\n",
    "| Correlation | Strength | Direction |\n",
    "| --- | --- | --- |\n",
    "|-1.0 to -0.9|Very Strong| Negative|\n",
    "|-0.9 to -0.7| Strong    |    Negative      |\n",
    "|-0.7 to -0.4| Moderate  |    Negative      |\n",
    "|-0.4 to -0.2|   Weak    |    Negative      |\n",
    "|-0.2 to 0.0 |Negligible |     Negative     |\n",
    "| 0.0 to 0.2 |Negligible |  Positive     |\n",
    "| 0.2 to 0.4|   Weak |Positive        |\n",
    "| 0.4 to 0.7|     Moderate  |Positive |\n",
    "| 0.7 to 0.9|    Strong    |Positive |\n",
    "| 0.9 to 1.0|  Very Strong   |Positive |\n",
    "\n",
    "\n",
    "\n",
    "\n",
    "\n",
    "\n",
    "\n",
    "\n"
   ]
  },
  {
   "cell_type": "markdown",
   "id": "42ec1dbe",
   "metadata": {},
   "source": [
    "## 6.Quantiles"
   ]
  },
  {
   "cell_type": "markdown",
   "id": "d46d5562",
   "metadata": {},
   "source": [
    "* Quantiles are cut points dividing the range of a probability distribution into continuous intervals with equal probabilities, or dividing the observations in a sample in the same way. \n",
    "\n",
    "* Common quantiles have special names, such as quartiles (four groups), deciles (ten groups), and percentiles (100 groups)."
   ]
  },
  {
   "cell_type": "markdown",
   "id": "cccb5723",
   "metadata": {},
   "source": [
    "### Quartiles\n",
    "\n",
    "* Quartiles are values that separate the data into four equal parts.\n",
    "\n",
    "* 1st Quartile = Q0 - Q1\n",
    "* 2nd Quartile = Q1 - Q2\n",
    "* 3rd Quartile = Q2 - Q3\n",
    "* 4th Quartile = Q3 - Q4\n"
   ]
  },
  {
   "cell_type": "code",
   "execution_count": 22,
   "id": "20923746",
   "metadata": {},
   "outputs": [
    {
     "name": "stdout",
     "output_type": "stream",
     "text": [
      "[ 1000.  3250.  5500.  7750. 20000.]\n"
     ]
    }
   ],
   "source": [
    "sample_q = [1000,2000,3000,4000,5000,6000,7000,8000,9000,20000]\n",
    "\n",
    "quartiles = np.quantile(values, [0,0.25,0.5,0.75,1])\n",
    "\n",
    "print(quartiles)"
   ]
  },
  {
   "cell_type": "markdown",
   "id": "68edede8",
   "metadata": {},
   "source": [
    "### Percentiles\n",
    "\n",
    "* Percentiles are values that separate the data into 100 equal parts.\n",
    "* In statistics, a k-th percentile, is a score below which a given percentage k of scores in its frequency distribution falls or a score at or below which a given percentage falls.\n",
    "* Percentile = (Number of Sorted Values Below “x” / Total Number of Values) × 100"
   ]
  },
  {
   "cell_type": "code",
   "execution_count": 23,
   "id": "a6adc58f",
   "metadata": {},
   "outputs": [
    {
     "name": "stdout",
     "output_type": "stream",
     "text": [
      "Age that 90% of the people are younger than is 61.0\n"
     ]
    }
   ],
   "source": [
    "#What is the age that 90% of the people are younger than? \n",
    "ages = [5,31,43,48,50,41,7,11,15,39,80,82,32,2,8,6,25,36,27,61,31]\n",
    "\n",
    "print(\"Age that 90% of the people are younger than is\",np.percentile(ages, 90))"
   ]
  },
  {
   "cell_type": "code",
   "execution_count": 24,
   "id": "bfdcdf68",
   "metadata": {},
   "outputs": [
    {
     "name": "stdout",
     "output_type": "stream",
     "text": [
      "Percentile score 31.0\n"
     ]
    }
   ],
   "source": [
    "import scipy.stats\n",
    "\n",
    "p = scipy.stats.scoreatpercentile(np.abs(ages), 50)\n",
    "\n",
    "print(\"Percentile score\", p)"
   ]
  },
  {
   "cell_type": "code",
   "execution_count": 25,
   "id": "f9473367",
   "metadata": {},
   "outputs": [
    {
     "data": {
      "text/html": [
       "<div>\n",
       "<style scoped>\n",
       "    .dataframe tbody tr th:only-of-type {\n",
       "        vertical-align: middle;\n",
       "    }\n",
       "\n",
       "    .dataframe tbody tr th {\n",
       "        vertical-align: top;\n",
       "    }\n",
       "\n",
       "    .dataframe thead th {\n",
       "        text-align: right;\n",
       "    }\n",
       "</style>\n",
       "<table border=\"1\" class=\"dataframe\">\n",
       "  <thead>\n",
       "    <tr style=\"text-align: right;\">\n",
       "      <th></th>\n",
       "      <th>Salary</th>\n",
       "      <th>Percentile Rank</th>\n",
       "    </tr>\n",
       "  </thead>\n",
       "  <tbody>\n",
       "    <tr>\n",
       "      <th>0</th>\n",
       "      <td>1000</td>\n",
       "      <td>0.1</td>\n",
       "    </tr>\n",
       "    <tr>\n",
       "      <th>1</th>\n",
       "      <td>2000</td>\n",
       "      <td>0.2</td>\n",
       "    </tr>\n",
       "    <tr>\n",
       "      <th>2</th>\n",
       "      <td>3000</td>\n",
       "      <td>0.3</td>\n",
       "    </tr>\n",
       "    <tr>\n",
       "      <th>3</th>\n",
       "      <td>4000</td>\n",
       "      <td>0.4</td>\n",
       "    </tr>\n",
       "    <tr>\n",
       "      <th>4</th>\n",
       "      <td>5000</td>\n",
       "      <td>0.5</td>\n",
       "    </tr>\n",
       "    <tr>\n",
       "      <th>5</th>\n",
       "      <td>6000</td>\n",
       "      <td>0.6</td>\n",
       "    </tr>\n",
       "    <tr>\n",
       "      <th>6</th>\n",
       "      <td>7000</td>\n",
       "      <td>0.7</td>\n",
       "    </tr>\n",
       "    <tr>\n",
       "      <th>7</th>\n",
       "      <td>8000</td>\n",
       "      <td>0.8</td>\n",
       "    </tr>\n",
       "    <tr>\n",
       "      <th>8</th>\n",
       "      <td>9000</td>\n",
       "      <td>0.9</td>\n",
       "    </tr>\n",
       "    <tr>\n",
       "      <th>9</th>\n",
       "      <td>20000</td>\n",
       "      <td>1.0</td>\n",
       "    </tr>\n",
       "  </tbody>\n",
       "</table>\n",
       "</div>"
      ],
      "text/plain": [
       "   Salary  Percentile Rank\n",
       "0    1000              0.1\n",
       "1    2000              0.2\n",
       "2    3000              0.3\n",
       "3    4000              0.4\n",
       "4    5000              0.5\n",
       "5    6000              0.6\n",
       "6    7000              0.7\n",
       "7    8000              0.8\n",
       "8    9000              0.9\n",
       "9   20000              1.0"
      ]
     },
     "execution_count": 25,
     "metadata": {},
     "output_type": "execute_result"
    }
   ],
   "source": [
    "# create a new column of percentile rank\n",
    "sample['Percentile Rank'] = sample.Salary.rank(pct = True)\n",
    "sample"
   ]
  },
  {
   "cell_type": "markdown",
   "id": "e2ccc555",
   "metadata": {},
   "source": [
    "## 7.Five_number_summary\n",
    "\n",
    "\n",
    "* The five-number summary is a set of descriptive statistics that provides information about a dataset. It consists of the five most important sample percentiles:\n",
    "\n",
    "    1.the sample minimum (smallest observation) <br>\n",
    "    2.the lower quartile or first quartile <br>\n",
    "    3.the median or second quartile (the middle value) <br>\n",
    "    4.the upper quartile or third quartile <br>\n",
    "    5.the sample maximum (largest observation) <br>\n",
    "\n",
    "\n",
    "* The five-number summary provides a concise summary of the distribution of the observations. \n",
    "* The five-number summary gives information about the location (from the median), spread (from the quartiles) and range (from the sample minimum and maximum) of the observations. "
   ]
  },
  {
   "cell_type": "code",
   "execution_count": 26,
   "id": "736dfff9",
   "metadata": {},
   "outputs": [
    {
     "data": {
      "text/plain": [
       "count       10.000000\n",
       "mean      6500.000000\n",
       "std       5400.617249\n",
       "min       1000.000000\n",
       "25%       3250.000000\n",
       "50%       5500.000000\n",
       "75%       7750.000000\n",
       "max      20000.000000\n",
       "Name: Salary, dtype: float64"
      ]
     },
     "execution_count": 26,
     "metadata": {},
     "output_type": "execute_result"
    }
   ],
   "source": [
    "#we can derive the five number by using describe function in pandas\n",
    "\n",
    "sample['Salary'].describe()"
   ]
  },
  {
   "cell_type": "code",
   "execution_count": 27,
   "id": "bf347632",
   "metadata": {},
   "outputs": [
    {
     "name": "stdout",
     "output_type": "stream",
     "text": [
      "Minimum= 2.0\n",
      "Q1= [11.]\n",
      "Q2= [31.]\n",
      "Q3= [43.]\n",
      "Maximum 82.0\n"
     ]
    }
   ],
   "source": [
    "#calculating five number summary\n",
    "ages = [5,31,43,48,50,41,7,11,15,39,80,82,32,2,8,6,25,36,27,61,31]\n",
    "\n",
    "minimum_ages = float(np.min(ages))\n",
    "Q1_ages = np.quantile(ages, [0.25])\n",
    "Q2_ages =  np.quantile(ages, [0.50])\n",
    "Q3_ages =  np.quantile(ages, [0.75])\n",
    "maximum_ages = float(np.max(ages))\n",
    "\n",
    "print(\"Minimum=\",minimum_ages)\n",
    "print(\"Q1=\",Q1_ages)\n",
    "print(\"Q2=\",Q2_ages)\n",
    "print(\"Q3=\",Q3_ages)\n",
    "print(\"Maximum\",maximum_ages)"
   ]
  },
  {
   "attachments": {
    "image-2.png": {
     "image/png": "[encoded data removed]"
    }
   },
   "cell_type": "markdown",
   "id": "6d71a559",
   "metadata": {},
   "source": [
    "## 8.Skewness\n",
    "\n",
    "* Skewness is a measure of the asymmetry of a distribution. \n",
    "* A distribution is asymmetrical when its left and right side are not mirror images. A distribution can have right (or positive), left (or negative), or zero skewness.\n",
    "\n",
    "* -->Normal distribution is the probability distribution without any skewness. Skweness = 0\n",
    "* -->Positive Skewed or Right-Skewed distribution has a long right tail. Skessness >0 . (Mean>Median>Mode)\n",
    "* -->Negative Skewed or Left-Skewed distribution has a long left tail. Skewness<0. (Mean<Median<Mode)\n",
    "\n",
    "* The rule of thumb for skewness is:\n",
    "\n",
    ">1. If the skewness is between -0.5 and 0.5, the data are fairly symmetrical.\n",
    ">2. If the skewness is between -1 and -0.5(negatively skewed) or between 0.5 and 1(positively skewed), the data are moderately skewed.\n",
    ">3. If the skewness is less than -1(negatively skewed) or greater than 1(positively skewed), the data are highly skewed.\n",
    "\n",
    " \n",
    "\n",
    "![image-2.png](attachment:image-2.png)"
   ]
  },
  {
   "cell_type": "code",
   "execution_count": 28,
   "id": "74f67d50",
   "metadata": {},
   "outputs": [
    {
     "name": "stdout",
     "output_type": "stream",
     "text": [
      "SKEWNESS= 0.7033550512542525\n",
      "mean=3 > median=2.5 > mode=1\n"
     ]
    },
    {
     "data": {
      "image/png": "[encoded data removed]",
      "text/plain": [
       "<Figure size 432x288 with 1 Axes>"
      ]
     },
     "metadata": {
      "needs_background": "light"
     },
     "output_type": "display_data"
    }
   ],
   "source": [
    "# Positive or Right-Skewed distribution \n",
    "# Importing library\n",
    "from scipy.stats import skew\n",
    "import seaborn as sns\n",
    "\n",
    "right_skew_val = [1,1,1,1,1,1,1,1,1,1,1,1,1,1,2,2,2,2,2,2,2,2,2,2,2,2,3,3,3,3,3,3,3,3,3,4,4,4,4,4,4,4,5,5,5,5,5,6,6,6,7,7]\n",
    "sns.kdeplot(data=right_skew_val).set(title=\"Positive or Right-Skewed distributiont\")\n",
    "print(\"SKEWNESS=\",skew(right_skew_val, axis=0, bias=True))\n",
    "print(\"mean={} > median={} > mode={}\".format(round(statistics.mean(right_skew_val)), statistics.median(right_skew_val), statistics.mode(right_skew_val)))"
   ]
  },
  {
   "cell_type": "code",
   "execution_count": 29,
   "id": "435ca026",
   "metadata": {},
   "outputs": [
    {
     "name": "stdout",
     "output_type": "stream",
     "text": [
      "SKEWNESS= -0.67816003184578\n",
      "mean=7.2 < median=8 < mode=9\n"
     ]
    },
    {
     "data": {
      "image/png": "[encoded data removed]",
      "text/plain": [
       "<Figure size 432x288 with 1 Axes>"
      ]
     },
     "metadata": {
      "needs_background": "light"
     },
     "output_type": "display_data"
    }
   ],
   "source": [
    "# Negative or Left-Skewed distribution\n",
    "left_skew_val = [3,4,4,4,4,5,5,5,5,5,6,6,6,6,6,6,6,7,7,7,7,7,7,7,7,8,8,8,8,8,8,8,8,8,8,8,8,8,9,9,9,9,9,9,9,9,9,9,9,9,9,9,9]\n",
    "sns.kdeplot(data=left_skew_val).set(title=\"Negative or Left-Skewed distributiont\")\n",
    "print(\"SKEWNESS=\",skew(left_skew_val, axis=0, bias=True))\n",
    "print(\"mean={} < median={} < mode={}\".format(round(statistics.mean(left_skew_val), 1), statistics.median(left_skew_val), statistics.mode(left_skew_val)))"
   ]
  },
  {
   "attachments": {
    "image-2.png": {
     "image/png": "[encoded data removed]"
    }
   },
   "cell_type": "markdown",
   "id": "d9332cf1",
   "metadata": {},
   "source": [
    "## 9.Kurtosis\n",
    "\n",
    "* Kurtosis is a measure of whether or not a distribution is heavy-tailed or light-tailed relative to a normal distribution.\n",
    "* The kurtosis of a normal distribution is 3. (Mesokurtic Kurtosis = 3))\n",
    "* If a given distribution has a kurtosis less than 3, it is said to be playkurtic, which means it tends to produce fewer and less extreme outliers than the normal distribution. (Platykurtic Kurtosis < 3).\n",
    "* If a given distribution has a kurtosis greater than 3, it is said to be leptokurtic, which means it tends to produce more outliers than the normal distribution. (Leptokurtic Kurtosis > 3)\n",
    "\n",
    "![image-2.png](attachment:image-2.png)"
   ]
  },
  {
   "cell_type": "code",
   "execution_count": 30,
   "id": "6fc92e63",
   "metadata": {},
   "outputs": [
    {
     "name": "stdout",
     "output_type": "stream",
     "text": [
      "2.0453729382893178\n"
     ]
    }
   ],
   "source": [
    "from scipy.stats import kurtosis\n",
    "\n",
    "K = [55, 78, 65, 98, 97, 60, 67, 65, 83, 65]\n",
    "\n",
    "print(kurtosis(K, fisher=False)) \n",
    "\n",
    "# setting fisher=False in the above code does calculation of the Pearson’s definition of kurtosis...\n",
    "# ...where kurtosis value for normal distribution = 3."
   ]
  },
  {
   "cell_type": "markdown",
   "id": "6f759c97",
   "metadata": {},
   "source": [
    "* We find that for our sample the value of kurtosis is around 2.05 and the value of excess kurtosis is around -0.95. This shows that we have a distribution with thicker tails and flatter than the normal distribution."
   ]
  },
  {
   "cell_type": "markdown",
   "id": "86d33662",
   "metadata": {},
   "source": [
    "## 10.Histogram\n",
    "\n",
    "* A histogram is a graphical representation of a grouped frequency distribution with continuous classes.\n",
    "* A histogram is a graph showing frequency distributions.\n",
    "* It is a graph showing the number of observations within each given interval.\n",
    "* To create a histogram the first step is to create bin of the ranges, then distribute the whole range of the values into a series of intervals, and count the values which fall into each of the intervals.Bins are clearly identified as consecutive, non-overlapping intervals of variables.The matplotlib.pyplot.hist() function is used to compute and create histogram.\n"
   ]
  },
  {
   "cell_type": "code",
   "execution_count": 31,
   "id": "f2368c0c",
   "metadata": {},
   "outputs": [
    {
     "data": {
      "image/png": "[encoded data removed]",
      "text/plain": [
       "<Figure size 720x504 with 1 Axes>"
      ]
     },
     "metadata": {
      "needs_background": "light"
     },
     "output_type": "display_data"
    }
   ],
   "source": [
    "\n",
    "from matplotlib import pyplot as plt\n",
    "import numpy as np\n",
    " \n",
    "# Creating histogram\n",
    "fig, ax = plt.subplots(figsize =(10, 7))\n",
    "ax.hist(ages, bins = [10, 20, 30, 40, 50, 60, 70, 80, 90, 100])\n",
    " \n",
    "# Show plot\n",
    "plt.show()"
   ]
  },
  {
   "cell_type": "markdown",
   "id": "0cd4529f",
   "metadata": {},
   "source": [
    "## 11.Bar_Graphs\n",
    "\n",
    "* Bar graphs are used show the distribution of qualitative (categorical) data.\n",
    "\n",
    "* It shows the frequency of values in the data. Frequency is the amount of times that value appeared in the data.\n",
    "\n",
    "* Each category is represented with a bar. The height of the bar represents the frequency of values from that category in the data."
   ]
  },
  {
   "cell_type": "code",
   "execution_count": 32,
   "id": "4b91a26c",
   "metadata": {},
   "outputs": [
    {
     "data": {
      "image/png": "[encoded data removed]",
      "text/plain": [
       "<Figure size 432x288 with 1 Axes>"
      ]
     },
     "metadata": {
      "needs_background": "light"
     },
     "output_type": "display_data"
    }
   ],
   "source": [
    "#plotting bar graph with medication vs its quantity\n",
    "x = np.array([\"Tablets\", \"Syrups\", \"Capsules\", \"Injections\", \"Balms\"])\n",
    "y = np.array([6, 2, 7, 4, 2])\n",
    "\n",
    "plt.title('Fever medication')\n",
    "plt.xlabel(\"Medication\")\n",
    "plt.ylabel(\"Quantity\")\n",
    "plt.bar(x,y)\n",
    "plt.show()"
   ]
  },
  {
   "cell_type": "markdown",
   "id": "f100511b",
   "metadata": {},
   "source": [
    "## 12.Pie_Charts\n",
    "\n",
    "* Pie graphs are used to show the distribution of qualitative (categorical) data.\n",
    "\n",
    "* It shows the frequency or relative frequency of values in the data.\n",
    "\n",
    "* Frequency is the amount of times that value appeared in the data. Relative frequency is the percentage of the total.\n",
    "\n",
    "* Each category is represented with a slice in the 'pie' (circle). The size of each slice represents the frequency of values from that category in the data."
   ]
  },
  {
   "cell_type": "code",
   "execution_count": 33,
   "id": "45df6e66",
   "metadata": {},
   "outputs": [
    {
     "data": {
      "image/png": "[encoded data removed]",
      "text/plain": [
       "<Figure size 432x288 with 1 Axes>"
      ]
     },
     "metadata": {},
     "output_type": "display_data"
    }
   ],
   "source": [
    "x = np.array([\"Tablets\", \"Syrups\", \"Capsules\", \"Injections\", \"Balms\"])\n",
    "y = np.array([6, 2, 7, 4, 2])\n",
    "\n",
    "\n",
    "plt.xlabel(\"Fever medication\")\n",
    "plt.pie(y, labels = x)\n",
    "plt.show() "
   ]
  },
  {
   "cell_type": "markdown",
   "id": "ef0710bc",
   "metadata": {},
   "source": [
    "## 13.Scatter_plots\n",
    "\n",
    "* Scatter plots are the graphs that present the relationship between two variables in a data-set. "
   ]
  },
  {
   "cell_type": "code",
   "execution_count": 34,
   "id": "a3c6375b",
   "metadata": {},
   "outputs": [
    {
     "data": {
      "image/png": "[encoded data removed]",
      "text/plain": [
       "<Figure size 432x288 with 1 Axes>"
      ]
     },
     "metadata": {
      "needs_background": "light"
     },
     "output_type": "display_data"
    }
   ],
   "source": [
    "x = np.array([\"Tablets\", \"Syrups\", \"Capsules\", \"Injections\", \"Balms\"])\n",
    "y = np.array([6, 2, 7, 4, 2])\n",
    "\n",
    "\n",
    "plt.title('Fever medication')\n",
    "plt.xlabel(\"Medication\")\n",
    "plt.ylabel(\"Quantity\")\n",
    "plt.scatter(x,y)\n",
    "plt.show()"
   ]
  },
  {
   "cell_type": "code",
   "execution_count": 35,
   "id": "436ed4af",
   "metadata": {},
   "outputs": [
    {
     "data": {
      "image/png": "[encoded data removed]",
      "text/plain": [
       "<Figure size 432x288 with 1 Axes>"
      ]
     },
     "metadata": {
      "needs_background": "light"
     },
     "output_type": "display_data"
    }
   ],
   "source": [
    "x = np.array([\"Tablets\", \"Syrups\", \"Capsules\", \"Injections\", \"Balms\"])\n",
    "y = np.array([6, 2, 7, 4, 2])\n",
    "\n",
    "plt.scatter(x,y, color = 'blue')\n",
    "\n",
    "x = np.array([\"Tablets\", \"Syrups\", \"Capsules\", \"Injections\", \"Balms\"])\n",
    "y = np.array([5, 6, 4, 3, 4])\n",
    "\n",
    "plt.title('Fever vs Cold')\n",
    "plt.xlabel(\"Medication\")\n",
    "plt.ylabel(\"Quantity\")\n",
    "plt.scatter(x,y, color = 'orange')\n",
    "plt.show()"
   ]
  },
  {
   "cell_type": "markdown",
   "id": "eba24f82",
   "metadata": {},
   "source": [
    "## 14.Box_Plots\n",
    "\n",
    "* Box Plot or  box and whisker plot is a type of chart that depicts a group of numerical data through their quartiles. It is a simple way to visualize the shape of our data. It makes comparing characteristics of data between categories very easy.\n",
    "* A box plot—displays the five-number summary of a set of data. The five-number summary is the minimum, first quartile, median, third quartile, and maximum. In a box plot, we draw a box from the first quartile to the third quartile. A vertical line goes through the box at the median."
   ]
  },
  {
   "cell_type": "code",
   "execution_count": 36,
   "id": "e1192d73",
   "metadata": {},
   "outputs": [
    {
     "name": "stdout",
     "output_type": "stream",
     "text": [
      "Minimum= 2.0\n",
      "Q1= [11.]\n",
      "Q2= [31.]\n",
      "Q3= [43.]\n",
      "Maximum 82.0\n"
     ]
    }
   ],
   "source": [
    "#calculating five number summary\n",
    "ages = [5,31,43,48,50,41,7,11,15,39,80,82,32,2,8,6,25,36,27,61,31]\n",
    "\n",
    "minimum_ages = float(np.min(ages))\n",
    "Q1_ages = np.quantile(ages, [0.25])\n",
    "Q2_ages =  np.quantile(ages, [0.50])\n",
    "Q3_ages =  np.quantile(ages, [0.75])\n",
    "maximum_ages = float(np.max(ages))\n",
    "\n",
    "print(\"Minimum=\",minimum_ages)\n",
    "print(\"Q1=\",Q1_ages)\n",
    "print(\"Q2=\",Q2_ages)\n",
    "print(\"Q3=\",Q3_ages)\n",
    "print(\"Maximum\",maximum_ages)"
   ]
  },
  {
   "cell_type": "code",
   "execution_count": 37,
   "id": "ee2e430d",
   "metadata": {},
   "outputs": [
    {
     "data": {
      "text/plain": [
       "<AxesSubplot:>"
      ]
     },
     "execution_count": 37,
     "metadata": {},
     "output_type": "execute_result"
    },
    {
     "data": {
      "image/png": "[encoded data removed]",
      "text/plain": [
       "<Figure size 432x288 with 1 Axes>"
      ]
     },
     "metadata": {
      "needs_background": "light"
     },
     "output_type": "display_data"
    }
   ],
   "source": [
    "# Drawing box plot for ages data\n",
    "import seaborn as sns\n",
    "\n",
    "\n",
    "sns.boxplot(data=ages, orient=\"h\")"
   ]
  },
  {
   "cell_type": "markdown",
   "id": "162abe1b",
   "metadata": {},
   "source": [
    "* Observation: As per our data we can visualize, maximum and minimum valus at whiskers, Q1 , Q2,Q3 as box beginning , middle and end. "
   ]
  },
  {
   "cell_type": "markdown",
   "id": "396910ec",
   "metadata": {},
   "source": [
    "   \n",
    "   ### <span style='color:Blue'> Epilogue: Good descriptive statistics are descriptive!  </span>\n",
    "   \n",
    "* Descriptive statistics refers to the analysis, summary, and communication of findings that describe a data set. Descriptive statistics  hold value in explaining high-level summaries of a set of information such as the mean, median, mode, variance, range, and count of information."
   ]
  }
 ],
 "metadata": {
  "kernelspec": {
   "display_name": "Python 3 (ipykernel)",
   "language": "python",
   "name": "python3"
  },
  "language_info": {
   "codemirror_mode": {
    "name": "ipython",
    "version": 3
   },
   "file_extension": ".py",
   "mimetype": "text/x-python",
   "name": "python",
   "nbconvert_exporter": "python",
   "pygments_lexer": "ipython3",
   "version": "3.9.12"
  }
 },
 "nbformat": 4,
 "nbformat_minor": 5
}
