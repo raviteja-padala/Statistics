{
  "nbformat": 4,
  "nbformat_minor": 0,
  "metadata": {
    "colab": {
      "provenance": [],
      "authorship_tag": "ABX9TyOQ46exozwJRPTXRnV0ig6X",
      "include_colab_link": true
    },
    "kernelspec": {
      "name": "python3",
      "display_name": "Python 3"
    },
    "language_info": {
      "name": "python"
    }
  },
  "cells": [
    {
      "cell_type": "markdown",
      "metadata": {
        "id": "view-in-github",
        "colab_type": "text"
      },
      "source": [
        "<a href=\"https://colab.research.google.com/github/raviteja-padala/Statistics/blob/main/Inferential_statistics_Confidence_Intervals.ipynb\" target=\"_parent\"><img src=\"https://colab.research.google.com/assets/colab-badge.svg\" alt=\"Open In Colab\"/></a>"
      ]
    },
    {
      "cell_type": "markdown",
      "source": [
        "# Objective: To learn and Understand Confidence interval in detail"
      ],
      "metadata": {
        "id": "qpcANui8E_Ab"
      }
    },
    {
      "cell_type": "markdown",
      "source": [
        "## Confidence interval\n",
        "\n",
        "**Confidence interval** is a range of values within which we estimate the true population parameter to lie with a certain level of confidence. It is a statistical tool used in inferential statistics to quantify the uncertainty associated with sample estimates and to make inferences about population parameters based on limited sample data.\n",
        "\n",
        "In simpler terms, a confidence interval provides a way to express the precision of an estimate. It tells us how confident we can be that the true population parameter falls within a certain range based on the data we have collected from a sample.\n"
      ],
      "metadata": {
        "id": "HI2NC-Bqx05D"
      }
    },
    {
      "cell_type": "markdown",
      "source": [
        "### Constructing a confidence interval\n",
        "\n",
        "Constructing a confidence interval involves using sample data to estimate a range of values within which the true population parameter is likely to lie with a specified level of confidence. The confidence interval provides a measure of the uncertainty associated with the sample estimate. Here's a step-by-step guide on how to construct a confidence interval:\n",
        "\n",
        "**Step 1: Collect Sample Data**\n",
        "\n",
        "Gather a random sample of data from the population of interest. The sample should be representative and unbiased to ensure that the estimates are valid.\n",
        "\n",
        "**Step 2: Choose a Confidence Level**\n",
        "\n",
        "Decide on the desired level of confidence for the interval. Common choices are 90%, 95%, or 99% confidence levels. A 95% confidence level is commonly used, indicating that we are 95% confident that the true population parameter lies within the constructed interval.\n",
        "\n",
        "**Step 3: Calculate the Sample Statistic**\n",
        "\n",
        "Compute the sample statistic of interest. The sample statistic could be the sample mean, sample proportion, sample standard deviation, or any other relevant statistic depending on the research question.\n",
        "\n",
        "**Step 4: Determine the Standard Error**\n",
        "\n",
        "Calculate the standard error (SE) of the sample statistic. The standard error quantifies the variability of the sample statistic and is typically derived from the sample data and the sample size.\n",
        "\n",
        "**Step 5: Find the Critical Value**\n",
        "\n",
        "Determine the critical value from the appropriate probability distribution (e.g., t-distribution or z-distribution) based on the chosen confidence level and the degrees of freedom (for t-distribution). The critical value defines the margins of the confidence interval.\n",
        "\n",
        "**Step 6: Compute the Margin of Error**\n",
        "\n",
        "Multiply the standard error by the critical value to obtain the margin of error. The margin of error represents the maximum distance from the sample statistic within which the true population parameter is likely to fall.\n",
        "\n",
        "**Step 7: Calculate the Confidence Interval**\n",
        "\n",
        "Add and subtract the margin of error from the sample statistic to construct the confidence interval. The confidence interval represents the range of values within which we are confident that the true population parameter lies.\n",
        "\n",
        "The general formula for a confidence interval is:\n",
        "\n",
        "**Confidence Interval** = Sample Statistic ± (Critical Value * Standard Error)\n",
        "\n",
        "The width of the confidence interval is determined by the margin of error and the level of confidence. A wider confidence interval implies greater uncertainty, while a narrower interval indicates higher precision in estimating the population parameter.\n"
      ],
      "metadata": {
        "id": "Ml4AFiYoGLxG"
      }
    },
    {
      "cell_type": "markdown",
      "source": [
        "### Let's see some examples"
      ],
      "metadata": {
        "id": "PpBmczssx0nk"
      }
    },
    {
      "cell_type": "markdown",
      "source": [
        "## Example-1: Constructing a Confidence Interval for the Population Mean\n",
        "\n",
        "- Suppose we want to estimate the average height of students in a university. We take a random sample of 100 students and measure their heights. The sample mean height is 170 cm, and the sample standard deviation is 5 cm. We want to construct a 95% confidence interval for the population mean height.\n",
        "\n",
        "**Step 1: Sample statistics**\n",
        "\n",
        "-  Sample = 100 students,    \n",
        "- Sample mean height = 170 cm,    \n",
        "- Sample standard deviation is 5 cm.\n",
        "\n",
        "\n",
        "**Step 2: Choose a Confidence Level**\n",
        "\n",
        "- We choose a 95% confidence level, which means we want to be 95% confident that the true population mean height lies within our constructed interval.\n",
        "\n",
        "**Step 3: Calculate the Sample Statistic**\n",
        "\n",
        "- The sample mean height is 170 cm.\n",
        "\n",
        "**Step 4: Determine the Standard Error**\n",
        "\n",
        "- The standard error (SE) of the sample mean is calculated using the formula:\n",
        "\n",
        "- SE = sample standard deviation / √(sample size)\n",
        "   = 5 / √100\n",
        "   = 5 / 10\n",
        "   = 0.5\n",
        "\n",
        "\n",
        "**Step 5: Find the Critical Value**\n",
        "\n",
        "- For a 95% confidence level and a sample size of 100, we use the t-distribution to find the critical value. The t-distribution table or statistical software gives us a critical value of approximately 1.984 (rounded to three decimal places).\n",
        "\n",
        "**Step 6: Compute the Margin of Error**\n",
        "\n",
        "- The margin of error is calculated by multiplying the standard error by the critical value:\n",
        "\n",
        "**Margin of Error** = Critical Value * Standard Error\n",
        "               = 1.984 * 0.5\n",
        "               = 0.992\n",
        "\n",
        "**Step 7: Calculate the Confidence Interval**\n",
        "Now, we can construct the confidence interval:\n",
        "\n",
        "**Confidence Interval** = Sample Mean ± Margin of Error\n",
        "                    = 170 ± 0.992\n",
        "                    = [169.008, 170.992]\n",
        "\n",
        "Interpretation:\n",
        "We are 95% confident that the true population mean height of students in the university lies within the interval [169.008 cm, 170.992 cm].\n",
        "\n",
        "In other words, we estimate that the average height of all students in the university falls within this range with a 95% level of confidence based on our sample data. Note that if we were to take multiple random samples and construct confidence intervals from each, we expect approximately 95% of those intervals to contain the true population mean height.\n"
      ],
      "metadata": {
        "id": "eA99ZS1561Q9"
      }
    },
    {
      "cell_type": "code",
      "source": [
        "#Loading libraries\n",
        "import pandas as pd\n",
        "import numpy as np\n",
        "import seaborn as sns\n",
        "from scipy import stats"
      ],
      "metadata": {
        "id": "3okcY2Lgx12s"
      },
      "execution_count": null,
      "outputs": []
    },
    {
      "cell_type": "markdown",
      "source": [
        "# Loading Data"
      ],
      "metadata": {
        "id": "L2E-umS0zyVR"
      }
    },
    {
      "cell_type": "code",
      "source": [
        "df = sns.load_dataset('titanic')"
      ],
      "metadata": {
        "id": "oR42qTMUyDGd"
      },
      "execution_count": null,
      "outputs": []
    },
    {
      "cell_type": "code",
      "source": [
        "df.head()"
      ],
      "metadata": {
        "colab": {
          "base_uri": "https://localhost:8080/",
          "height": 206
        },
        "id": "qkgxyf7DyTkJ",
        "outputId": "01e94ce0-964a-4e66-e9e8-34e69c25a195"
      },
      "execution_count": null,
      "outputs": [
        {
          "output_type": "execute_result",
          "data": {
            "text/plain": [
              "   survived  pclass     sex   age  sibsp  parch     fare embarked  class  \\\n",
              "0         0       3    male  22.0      1      0   7.2500        S  Third   \n",
              "1         1       1  female  38.0      1      0  71.2833        C  First   \n",
              "2         1       3  female  26.0      0      0   7.9250        S  Third   \n",
              "3         1       1  female  35.0      1      0  53.1000        S  First   \n",
              "4         0       3    male  35.0      0      0   8.0500        S  Third   \n",
              "\n",
              "     who  adult_male deck  embark_town alive  alone  \n",
              "0    man        True  NaN  Southampton    no  False  \n",
              "1  woman       False    C    Cherbourg   yes  False  \n",
              "2  woman       False  NaN  Southampton   yes   True  \n",
              "3  woman       False    C  Southampton   yes  False  \n",
              "4    man        True  NaN  Southampton    no   True  "
            ],
            "text/html": [
              "\n",
              "\n",
              "  <div id=\"df-ee4bbfde-3066-43c1-b209-9e950660ad4c\">\n",
              "    <div class=\"colab-df-container\">\n",
              "      <div>\n",
              "<style scoped>\n",
              "    .dataframe tbody tr th:only-of-type {\n",
              "        vertical-align: middle;\n",
              "    }\n",
              "\n",
              "    .dataframe tbody tr th {\n",
              "        vertical-align: top;\n",
              "    }\n",
              "\n",
              "    .dataframe thead th {\n",
              "        text-align: right;\n",
              "    }\n",
              "</style>\n",
              "<table border=\"1\" class=\"dataframe\">\n",
              "  <thead>\n",
              "    <tr style=\"text-align: right;\">\n",
              "      <th></th>\n",
              "      <th>survived</th>\n",
              "      <th>pclass</th>\n",
              "      <th>sex</th>\n",
              "      <th>age</th>\n",
              "      <th>sibsp</th>\n",
              "      <th>parch</th>\n",
              "      <th>fare</th>\n",
              "      <th>embarked</th>\n",
              "      <th>class</th>\n",
              "      <th>who</th>\n",
              "      <th>adult_male</th>\n",
              "      <th>deck</th>\n",
              "      <th>embark_town</th>\n",
              "      <th>alive</th>\n",
              "      <th>alone</th>\n",
              "    </tr>\n",
              "  </thead>\n",
              "  <tbody>\n",
              "    <tr>\n",
              "      <th>0</th>\n",
              "      <td>0</td>\n",
              "      <td>3</td>\n",
              "      <td>male</td>\n",
              "      <td>22.0</td>\n",
              "      <td>1</td>\n",
              "      <td>0</td>\n",
              "      <td>7.2500</td>\n",
              "      <td>S</td>\n",
              "      <td>Third</td>\n",
              "      <td>man</td>\n",
              "      <td>True</td>\n",
              "      <td>NaN</td>\n",
              "      <td>Southampton</td>\n",
              "      <td>no</td>\n",
              "      <td>False</td>\n",
              "    </tr>\n",
              "    <tr>\n",
              "      <th>1</th>\n",
              "      <td>1</td>\n",
              "      <td>1</td>\n",
              "      <td>female</td>\n",
              "      <td>38.0</td>\n",
              "      <td>1</td>\n",
              "      <td>0</td>\n",
              "      <td>71.2833</td>\n",
              "      <td>C</td>\n",
              "      <td>First</td>\n",
              "      <td>woman</td>\n",
              "      <td>False</td>\n",
              "      <td>C</td>\n",
              "      <td>Cherbourg</td>\n",
              "      <td>yes</td>\n",
              "      <td>False</td>\n",
              "    </tr>\n",
              "    <tr>\n",
              "      <th>2</th>\n",
              "      <td>1</td>\n",
              "      <td>3</td>\n",
              "      <td>female</td>\n",
              "      <td>26.0</td>\n",
              "      <td>0</td>\n",
              "      <td>0</td>\n",
              "      <td>7.9250</td>\n",
              "      <td>S</td>\n",
              "      <td>Third</td>\n",
              "      <td>woman</td>\n",
              "      <td>False</td>\n",
              "      <td>NaN</td>\n",
              "      <td>Southampton</td>\n",
              "      <td>yes</td>\n",
              "      <td>True</td>\n",
              "    </tr>\n",
              "    <tr>\n",
              "      <th>3</th>\n",
              "      <td>1</td>\n",
              "      <td>1</td>\n",
              "      <td>female</td>\n",
              "      <td>35.0</td>\n",
              "      <td>1</td>\n",
              "      <td>0</td>\n",
              "      <td>53.1000</td>\n",
              "      <td>S</td>\n",
              "      <td>First</td>\n",
              "      <td>woman</td>\n",
              "      <td>False</td>\n",
              "      <td>C</td>\n",
              "      <td>Southampton</td>\n",
              "      <td>yes</td>\n",
              "      <td>False</td>\n",
              "    </tr>\n",
              "    <tr>\n",
              "      <th>4</th>\n",
              "      <td>0</td>\n",
              "      <td>3</td>\n",
              "      <td>male</td>\n",
              "      <td>35.0</td>\n",
              "      <td>0</td>\n",
              "      <td>0</td>\n",
              "      <td>8.0500</td>\n",
              "      <td>S</td>\n",
              "      <td>Third</td>\n",
              "      <td>man</td>\n",
              "      <td>True</td>\n",
              "      <td>NaN</td>\n",
              "      <td>Southampton</td>\n",
              "      <td>no</td>\n",
              "      <td>True</td>\n",
              "    </tr>\n",
              "  </tbody>\n",
              "</table>\n",
              "</div>\n",
              "      <button class=\"colab-df-convert\" onclick=\"convertToInteractive('df-ee4bbfde-3066-43c1-b209-9e950660ad4c')\"\n",
              "              title=\"Convert this dataframe to an interactive table.\"\n",
              "              style=\"display:none;\">\n",
              "\n",
              "  <svg xmlns=\"http://www.w3.org/2000/svg\" height=\"24px\"viewBox=\"0 0 24 24\"\n",
              "       width=\"24px\">\n",
              "    <path d=\"M0 0h24v24H0V0z\" fill=\"none\"/>\n",
              "    <path d=\"M18.56 5.44l.94 2.06.94-2.06 2.06-.94-2.06-.94-.94-2.06-.94 2.06-2.06.94zm-11 1L8.5 8.5l.94-2.06 2.06-.94-2.06-.94L8.5 2.5l-.94 2.06-2.06.94zm10 10l.94 2.06.94-2.06 2.06-.94-2.06-.94-.94-2.06-.94 2.06-2.06.94z\"/><path d=\"M17.41 7.96l-1.37-1.37c-.4-.4-.92-.59-1.43-.59-.52 0-1.04.2-1.43.59L10.3 9.45l-7.72 7.72c-.78.78-.78 2.05 0 2.83L4 21.41c.39.39.9.59 1.41.59.51 0 1.02-.2 1.41-.59l7.78-7.78 2.81-2.81c.8-.78.8-2.07 0-2.86zM5.41 20L4 18.59l7.72-7.72 1.47 1.35L5.41 20z\"/>\n",
              "  </svg>\n",
              "      </button>\n",
              "\n",
              "\n",
              "\n",
              "    <div id=\"df-362cf973-fed7-400b-807d-231862ab2265\">\n",
              "      <button class=\"colab-df-quickchart\" onclick=\"quickchart('df-362cf973-fed7-400b-807d-231862ab2265')\"\n",
              "              title=\"Suggest charts.\"\n",
              "              style=\"display:none;\">\n",
              "\n",
              "<svg xmlns=\"http://www.w3.org/2000/svg\" height=\"24px\"viewBox=\"0 0 24 24\"\n",
              "     width=\"24px\">\n",
              "    <g>\n",
              "        <path d=\"M19 3H5c-1.1 0-2 .9-2 2v14c0 1.1.9 2 2 2h14c1.1 0 2-.9 2-2V5c0-1.1-.9-2-2-2zM9 17H7v-7h2v7zm4 0h-2V7h2v10zm4 0h-2v-4h2v4z\"/>\n",
              "    </g>\n",
              "</svg>\n",
              "      </button>\n",
              "    </div>\n",
              "\n",
              "<style>\n",
              "  .colab-df-quickchart {\n",
              "    background-color: #E8F0FE;\n",
              "    border: none;\n",
              "    border-radius: 50%;\n",
              "    cursor: pointer;\n",
              "    display: none;\n",
              "    fill: #1967D2;\n",
              "    height: 32px;\n",
              "    padding: 0 0 0 0;\n",
              "    width: 32px;\n",
              "  }\n",
              "\n",
              "  .colab-df-quickchart:hover {\n",
              "    background-color: #E2EBFA;\n",
              "    box-shadow: 0px 1px 2px rgba(60, 64, 67, 0.3), 0px 1px 3px 1px rgba(60, 64, 67, 0.15);\n",
              "    fill: #174EA6;\n",
              "  }\n",
              "\n",
              "  [theme=dark] .colab-df-quickchart {\n",
              "    background-color: #3B4455;\n",
              "    fill: #D2E3FC;\n",
              "  }\n",
              "\n",
              "  [theme=dark] .colab-df-quickchart:hover {\n",
              "    background-color: #434B5C;\n",
              "    box-shadow: 0px 1px 3px 1px rgba(0, 0, 0, 0.15);\n",
              "    filter: drop-shadow(0px 1px 2px rgba(0, 0, 0, 0.3));\n",
              "    fill: #FFFFFF;\n",
              "  }\n",
              "</style>\n",
              "\n",
              "    <script>\n",
              "      async function quickchart(key) {\n",
              "        const containerElement = document.querySelector('#' + key);\n",
              "        const charts = await google.colab.kernel.invokeFunction(\n",
              "            'suggestCharts', [key], {});\n",
              "      }\n",
              "    </script>\n",
              "\n",
              "      <script>\n",
              "\n",
              "function displayQuickchartButton(domScope) {\n",
              "  let quickchartButtonEl =\n",
              "    domScope.querySelector('#df-362cf973-fed7-400b-807d-231862ab2265 button.colab-df-quickchart');\n",
              "  quickchartButtonEl.style.display =\n",
              "    google.colab.kernel.accessAllowed ? 'block' : 'none';\n",
              "}\n",
              "\n",
              "        displayQuickchartButton(document);\n",
              "      </script>\n",
              "      <style>\n",
              "    .colab-df-container {\n",
              "      display:flex;\n",
              "      flex-wrap:wrap;\n",
              "      gap: 12px;\n",
              "    }\n",
              "\n",
              "    .colab-df-convert {\n",
              "      background-color: #E8F0FE;\n",
              "      border: none;\n",
              "      border-radius: 50%;\n",
              "      cursor: pointer;\n",
              "      display: none;\n",
              "      fill: #1967D2;\n",
              "      height: 32px;\n",
              "      padding: 0 0 0 0;\n",
              "      width: 32px;\n",
              "    }\n",
              "\n",
              "    .colab-df-convert:hover {\n",
              "      background-color: #E2EBFA;\n",
              "      box-shadow: 0px 1px 2px rgba(60, 64, 67, 0.3), 0px 1px 3px 1px rgba(60, 64, 67, 0.15);\n",
              "      fill: #174EA6;\n",
              "    }\n",
              "\n",
              "    [theme=dark] .colab-df-convert {\n",
              "      background-color: #3B4455;\n",
              "      fill: #D2E3FC;\n",
              "    }\n",
              "\n",
              "    [theme=dark] .colab-df-convert:hover {\n",
              "      background-color: #434B5C;\n",
              "      box-shadow: 0px 1px 3px 1px rgba(0, 0, 0, 0.15);\n",
              "      filter: drop-shadow(0px 1px 2px rgba(0, 0, 0, 0.3));\n",
              "      fill: #FFFFFF;\n",
              "    }\n",
              "  </style>\n",
              "\n",
              "      <script>\n",
              "        const buttonEl =\n",
              "          document.querySelector('#df-ee4bbfde-3066-43c1-b209-9e950660ad4c button.colab-df-convert');\n",
              "        buttonEl.style.display =\n",
              "          google.colab.kernel.accessAllowed ? 'block' : 'none';\n",
              "\n",
              "        async function convertToInteractive(key) {\n",
              "          const element = document.querySelector('#df-ee4bbfde-3066-43c1-b209-9e950660ad4c');\n",
              "          const dataTable =\n",
              "            await google.colab.kernel.invokeFunction('convertToInteractive',\n",
              "                                                     [key], {});\n",
              "          if (!dataTable) return;\n",
              "\n",
              "          const docLinkHtml = 'Like what you see? Visit the ' +\n",
              "            '<a target=\"_blank\" href=https://colab.research.google.com/notebooks/data_table.ipynb>data table notebook</a>'\n",
              "            + ' to learn more about interactive tables.';\n",
              "          element.innerHTML = '';\n",
              "          dataTable['output_type'] = 'display_data';\n",
              "          await google.colab.output.renderOutput(dataTable, element);\n",
              "          const docLink = document.createElement('div');\n",
              "          docLink.innerHTML = docLinkHtml;\n",
              "          element.appendChild(docLink);\n",
              "        }\n",
              "      </script>\n",
              "    </div>\n",
              "  </div>\n"
            ]
          },
          "metadata": {},
          "execution_count": 4
        }
      ]
    },
    {
      "cell_type": "code",
      "source": [
        "# shape of dataset\n",
        "df.shape"
      ],
      "metadata": {
        "colab": {
          "base_uri": "https://localhost:8080/"
        },
        "id": "CcoBGhYmyV9j",
        "outputId": "6f77a59c-47aa-4ffb-90ba-1c964af68fe2"
      },
      "execution_count": null,
      "outputs": [
        {
          "output_type": "execute_result",
          "data": {
            "text/plain": [
              "(891, 15)"
            ]
          },
          "metadata": {},
          "execution_count": 5
        }
      ]
    },
    {
      "cell_type": "markdown",
      "source": [
        "# Example-2: Calculation of Confidence interval using t-score\n",
        "\n",
        "Suppose we want to estimate the average fare of passengers. We take a random sample of 100 passengers and measure their fares. We will construct a 95% confidence interval of the population fare from the dataset."
      ],
      "metadata": {
        "id": "bG-IXyCAxG56"
      }
    },
    {
      "cell_type": "markdown",
      "source": [
        "## Step 1: Collect Sample Data"
      ],
      "metadata": {
        "id": "TVdJYLfJ3kKy"
      }
    },
    {
      "cell_type": "code",
      "source": [
        "# Select random 100 fare samples\n",
        "random_100_fare_samples = df['fare'].sample(n=100, random_state=42)\n",
        "random_100_fare_samples"
      ],
      "metadata": {
        "colab": {
          "base_uri": "https://localhost:8080/"
        },
        "id": "StKIWGumyaI4",
        "outputId": "b33be0c5-0abe-4837-c318-2c3fe733efd1"
      },
      "execution_count": null,
      "outputs": [
        {
          "output_type": "execute_result",
          "data": {
            "text/plain": [
              "709    15.2458\n",
              "439    10.5000\n",
              "840     7.9250\n",
              "720    33.0000\n",
              "39     11.2417\n",
              "        ...   \n",
              "281     7.8542\n",
              "712    52.0000\n",
              "338     8.0500\n",
              "327    13.0000\n",
              "321     7.8958\n",
              "Name: fare, Length: 100, dtype: float64"
            ]
          },
          "metadata": {},
          "execution_count": 6
        }
      ]
    },
    {
      "cell_type": "code",
      "source": [
        "# Calculate the mean of the random_fare_samples\n",
        "mean_fare = random_100_fare_samples.mean()\n",
        "\n",
        "# Calculate the standard deviation of the random_fare_samples\n",
        "std_dev_fare = random_100_fare_samples.std()\n",
        "\n",
        "# Display the mean and standard deviation\n",
        "print(\"Mean Fare:\", mean_fare)\n",
        "print(\"Standard Deviation Fare:\", std_dev_fare)"
      ],
      "metadata": {
        "colab": {
          "base_uri": "https://localhost:8080/"
        },
        "id": "anpaBoH74s1_",
        "outputId": "d2586022-46a8-4726-92fe-863d3f07d586"
      },
      "execution_count": null,
      "outputs": [
        {
          "output_type": "stream",
          "name": "stdout",
          "text": [
            "Mean Fare: 31.533\n",
            "Standard Deviation Fare: 42.62158033286078\n"
          ]
        }
      ]
    },
    {
      "cell_type": "markdown",
      "source": [
        "## Step 2: Choose a Confidence Level\n",
        "We choose a 95% confidence level, indicating that we want to be 95% confident that the true population fare lies within the confidence interval.\n"
      ],
      "metadata": {
        "id": "tZNVZS_J4Q5z"
      }
    },
    {
      "cell_type": "code",
      "source": [
        "# Define the confidence level (e.g., 95% confidence interval)\n",
        "confidence_level = 0.95"
      ],
      "metadata": {
        "id": "Z9TtgCOO9E2l"
      },
      "execution_count": null,
      "outputs": []
    },
    {
      "cell_type": "markdown",
      "source": [
        "## Step 3: Calculate the Sample Statistic\n",
        "Calculate sample mean fare\n"
      ],
      "metadata": {
        "id": "0mbDEkrQ4UKP"
      }
    },
    {
      "cell_type": "code",
      "source": [
        "print(\"Mean Fare:\", mean_fare)"
      ],
      "metadata": {
        "colab": {
          "base_uri": "https://localhost:8080/"
        },
        "id": "2RT7YS0O6-7q",
        "outputId": "26670038-0ec4-47e2-8f1d-42fb338a5236"
      },
      "execution_count": null,
      "outputs": [
        {
          "output_type": "stream",
          "name": "stdout",
          "text": [
            "Mean Fare: 31.533\n"
          ]
        }
      ]
    },
    {
      "cell_type": "markdown",
      "source": [
        "## Step 4: Determine the Standard Error\n",
        "The standard error (SE) of the sample mean is calculated using the formula:\n",
        "\n",
        "SE = sample standard deviation / √(sample size)\n"
      ],
      "metadata": {
        "id": "5HxSLS7p4mO2"
      }
    },
    {
      "cell_type": "code",
      "source": [
        "# Calculate the sample size (which is 100 in this case)\n",
        "sample_size = len(random_100_fare_samples)\n",
        "\n",
        "# Calculate the standard error\n",
        "standard_error = std_dev_fare / np.sqrt(sample_size)\n",
        "print(\"standard error is:\", standard_error)"
      ],
      "metadata": {
        "colab": {
          "base_uri": "https://localhost:8080/"
        },
        "id": "CdYyq8Ud7k40",
        "outputId": "c5dafd23-81d0-479b-83df-2cd25fc23f9d"
      },
      "execution_count": null,
      "outputs": [
        {
          "output_type": "stream",
          "name": "stdout",
          "text": [
            "standard error is: 4.262158033286078\n"
          ]
        }
      ]
    },
    {
      "cell_type": "markdown",
      "source": [
        "## Step 5: Find the Critical Value\n",
        "Determine the critical value from the appropriate probability distribution (e.g., t-distribution or z-distribution) based on the chosen confidence level and the degrees of freedom (for t-distribution). The critical value defines the margins of the confidence interval.\n",
        "\n",
        "\n",
        "Lets find critical value using t-score. The t-score represents the number of standard errors the sample mean is away from the true population mean. The critical value is used to determine the margin of error in the confidence interval.\n"
      ],
      "metadata": {
        "id": "PxEACyT19ph2"
      }
    },
    {
      "cell_type": "code",
      "source": [
        "# to find critical value using t-distribution , we need to Calculate the degrees of freedom\n",
        "\n",
        "# Calculate the degrees of freedom\n",
        "degrees_of_freedom = sample_size - 1\n",
        "\n",
        "# Calculate the critical value (t-score) using the confidence level and degrees of freedom\n",
        "critical_value = stats.t.ppf((1 + confidence_level) / 2, df=degrees_of_freedom)\n",
        "print(\"Critical value:\", critical_value)"
      ],
      "metadata": {
        "colab": {
          "base_uri": "https://localhost:8080/"
        },
        "id": "0OdMVtkM9s_Z",
        "outputId": "cb01a1f6-9f5a-48f4-aff7-b51281b5e716"
      },
      "execution_count": null,
      "outputs": [
        {
          "output_type": "stream",
          "name": "stdout",
          "text": [
            "Critical value: 1.9842169515086827\n"
          ]
        }
      ]
    },
    {
      "cell_type": "markdown",
      "source": [
        "*Code explanation*:\n",
        "\n",
        "The stats.t.ppf function calculates the percent-point function (inverse of the cumulative distribution function) for the t-distribution. It takes two main arguments:\n",
        "\n",
        "The first argument is the probability (percentile) value, which in this case is (1 + confidence_level) / 2. The (1 + confidence_level) / 2 calculates the middle point of the confidence interval.\n",
        "\n",
        "The second argument is the degrees of freedom (df), which we calculated earlier.\n",
        "\n",
        "So, the stats.t.ppf((1 + confidence_level) / 2, df=degrees_of_freedom) calculates the t-score corresponding to the desired confidence_level and degrees_of_freedom.\n",
        "\n",
        "The critical value is used to calculate the margin of error, which is then used to build the confidence interval as shown in the previous step-wise code."
      ],
      "metadata": {
        "id": "QATXjudR__zj"
      }
    },
    {
      "cell_type": "markdown",
      "source": [
        "## Step 6: Compute the Margin of Error\n",
        "Multiply the standard error by the critical value to obtain the margin of error. The margin of error represents the maximum distance from the sample statistic within which the true population parameter is likely to fall.\n",
        "\n",
        "### **Margin of Error** = Critical Value * Standard Error\n"
      ],
      "metadata": {
        "id": "XZePbPgm918o"
      }
    },
    {
      "cell_type": "code",
      "source": [
        "# Calculate the margin of error\n",
        "margin_of_error = critical_value * standard_error\n",
        "print(\"margin_of_error=\", margin_of_error)"
      ],
      "metadata": {
        "colab": {
          "base_uri": "https://localhost:8080/"
        },
        "id": "vbQrhU3_-AOd",
        "outputId": "a906b770-ec96-4093-92ae-f3cfc5a51ffa"
      },
      "execution_count": null,
      "outputs": [
        {
          "output_type": "stream",
          "name": "stdout",
          "text": [
            "margin_of_error= 8.457046219655144\n"
          ]
        }
      ]
    },
    {
      "cell_type": "markdown",
      "source": [
        "## Step 7: Calculate the Confidence Interval\n",
        "Add and subtract the margin of error from the sample statistic to construct the confidence interval. The confidence interval represents the range of values within which we are confident that the true population parameter lies.\n",
        "\n",
        "The general formula for a confidence interval is:\n",
        "\n",
        "### **Confidence Interval** = Sample Statistic ± (Critical Value * Standard Error)\n",
        "\n",
        "The width of the confidence interval is determined by the margin of error and the level of confidence. A wider confidence interval implies greater uncertainty, while a narrower interval indicates higher precision in estimating the population parameter.\n"
      ],
      "metadata": {
        "id": "KbuleWgx-CZ0"
      }
    },
    {
      "cell_type": "code",
      "source": [
        "# Calculate the lower and upper bounds of the confidence interval\n",
        "lower_bound = mean_fare - margin_of_error\n",
        "upper_bound = mean_fare + margin_of_error\n",
        "\n",
        "\n",
        "# Display the confidence interval\n",
        "print(\"95% Confidence Interval:\", (lower_bound, upper_bound))"
      ],
      "metadata": {
        "colab": {
          "base_uri": "https://localhost:8080/"
        },
        "id": "BZ2wKpvJASjv",
        "outputId": "b6bd8614-188d-43dd-9c5d-7c0a9135085f"
      },
      "execution_count": null,
      "outputs": [
        {
          "output_type": "stream",
          "name": "stdout",
          "text": [
            "95% Confidence Interval: (20.554408441505373, 42.51159155849463)\n"
          ]
        }
      ]
    },
    {
      "cell_type": "markdown",
      "source": [
        "The confidence interval (23.075953780344857, 39.99004621965514) is a range of values that provides an estimate for the true population mean of the fares with a certain level of confidence.\n",
        "\n",
        "Specifically, it means that if we were to take many samples of the same size from the population and compute the mean of each sample, approximately 95% of those sample means would fall within the range of 23.08 to 39.99.\n",
        "\n",
        "In other words, we are 95% confident that the true population mean of the fares lies within this interval.\n",
        "\n",
        "It is essential to note that the confidence interval gives us a range of possible values for the population mean, but it does not tell us the probability that a particular value is the true population mean. Instead, it quantifies the uncertainty associated with the sample estimate.\n",
        "\n",
        "In summary, with a 95% confidence level, we estimate that the true population mean of the fares lies between 23.08 and 39.99."
      ],
      "metadata": {
        "id": "BFEAnotXA8Wn"
      }
    },
    {
      "cell_type": "code",
      "source": [
        "# Display the confidence interval\n",
        "print(\"Confidence Interval:\", (lower_bound, upper_bound))\n",
        "\n",
        "\n",
        "# calculation of population mean\n",
        "print(\"Population mean:\",df['fare'].mean())"
      ],
      "metadata": {
        "colab": {
          "base_uri": "https://localhost:8080/"
        },
        "id": "2HDA5UvlAfdH",
        "outputId": "caeb120a-672a-476f-c956-fd6e24fbc505"
      },
      "execution_count": null,
      "outputs": [
        {
          "output_type": "stream",
          "name": "stdout",
          "text": [
            "Confidence Interval: (23.075953780344857, 39.99004621965514)\n",
            "Population mean: 32.204207968574636\n"
          ]
        }
      ]
    },
    {
      "cell_type": "markdown",
      "source": [
        "---"
      ],
      "metadata": {
        "id": "LiZYqy6c4cPT"
      }
    },
    {
      "cell_type": "markdown",
      "source": [
        "# Example-3: Calculation of Confidence interval using z-score\n",
        "\n",
        "Suppose we want to estimate the average fare of passengers. We take a random sample of 100 passengers and measure their fares. We will construct a 95% confidence interval of the population fare from the dataset."
      ],
      "metadata": {
        "id": "ACm62HwZ4Vx0"
      }
    },
    {
      "cell_type": "markdown",
      "source": [
        "## Step 1: Collect Sample Data"
      ],
      "metadata": {
        "id": "_s0OmzZD4lER"
      }
    },
    {
      "cell_type": "code",
      "source": [
        "# Select random 100 fare samples\n",
        "Random_100_fare_samples = df['fare'].sample(n=100, random_state=40)\n",
        "Random_100_fare_samples"
      ],
      "metadata": {
        "colab": {
          "base_uri": "https://localhost:8080/"
        },
        "id": "b_q7hfqPyiEi",
        "outputId": "c68a770c-39de-4f94-f3eb-5d89dabc7dde"
      },
      "execution_count": null,
      "outputs": [
        {
          "output_type": "execute_result",
          "data": {
            "text/plain": [
              "246      7.7750\n",
              "588      8.0500\n",
              "472     27.7500\n",
              "71      46.9000\n",
              "654      6.7500\n",
              "         ...   \n",
              "56      10.5000\n",
              "158      8.6625\n",
              "601      7.8958\n",
              "223      7.8958\n",
              "299    247.5208\n",
              "Name: fare, Length: 100, dtype: float64"
            ]
          },
          "metadata": {},
          "execution_count": 23
        }
      ]
    },
    {
      "cell_type": "code",
      "source": [
        "# Calculate the mean of the random_fare_samples\n",
        "Mean_fare = random_100_fare_samples.mean()\n",
        "\n",
        "# Calculate the standard deviation of the random_fare_samples\n",
        "Std_dev_fare = random_100_fare_samples.std()\n",
        "\n",
        "# Display the mean and standard deviation\n",
        "print(\"Mean Fare:\", mean_fare)\n",
        "print(\"Standard Deviation Fare:\", std_dev_fare)"
      ],
      "metadata": {
        "colab": {
          "base_uri": "https://localhost:8080/"
        },
        "id": "5KBA8hVs42iz",
        "outputId": "590fd017-124b-4c7f-bc8f-8ad140261799"
      },
      "execution_count": null,
      "outputs": [
        {
          "output_type": "stream",
          "name": "stdout",
          "text": [
            "Mean Fare: 31.533\n",
            "Standard Deviation Fare: 42.62158033286078\n"
          ]
        }
      ]
    },
    {
      "cell_type": "markdown",
      "source": [
        "## Step 2: Choose a Confidence Level\n",
        "We choose a 99% confidence level, which means we want to be 99% confident that the true population mean fare lies within our constructed interval.\n"
      ],
      "metadata": {
        "id": "LeCSJNYI5KRv"
      }
    },
    {
      "cell_type": "code",
      "source": [
        "# Define the confidence level (e.g., 95% confidence interval)\n",
        "Confidence_level = 0.99"
      ],
      "metadata": {
        "id": "dgqW45k55lUo"
      },
      "execution_count": null,
      "outputs": []
    },
    {
      "cell_type": "markdown",
      "source": [
        "## Step 3: Calculate the Sample Statistic\n",
        "Calculate sample mean fare"
      ],
      "metadata": {
        "id": "BqtaQJSN5kYu"
      }
    },
    {
      "cell_type": "code",
      "source": [
        "print(\"Mean Fare:\", Mean_fare)"
      ],
      "metadata": {
        "colab": {
          "base_uri": "https://localhost:8080/"
        },
        "id": "qOBV82805RQr",
        "outputId": "89192d61-74b2-43df-9dcb-bcf5b4b144cf"
      },
      "execution_count": null,
      "outputs": [
        {
          "output_type": "stream",
          "name": "stdout",
          "text": [
            "Mean Fare: 31.533\n"
          ]
        }
      ]
    },
    {
      "cell_type": "markdown",
      "source": [
        "## Step 4: Determine the Standard Error\n",
        "The standard error (SE) of the sample mean is calculated using the formula:\n",
        "\n",
        "SE = sample standard deviation / √(sample size)\n"
      ],
      "metadata": {
        "id": "9bRNgGyE57cx"
      }
    },
    {
      "cell_type": "code",
      "source": [
        "# Calculate the sample size (which is 100 in this case)\n",
        "Sample_size = len(Random_100_fare_samples)\n",
        "\n",
        "# Calculate the standard error\n",
        "Standard_error = Std_dev_fare / np.sqrt(Sample_size)\n",
        "print(\"Standard error is:\", Standard_error)"
      ],
      "metadata": {
        "colab": {
          "base_uri": "https://localhost:8080/"
        },
        "id": "2ec48HnV59Tx",
        "outputId": "e6855096-0344-4a93-a4f9-35faea1fb62f"
      },
      "execution_count": null,
      "outputs": [
        {
          "output_type": "stream",
          "name": "stdout",
          "text": [
            "Standard error is: 4.262158033286078\n"
          ]
        }
      ]
    },
    {
      "cell_type": "markdown",
      "source": [
        "## Step 5: Find the Critical Value\n",
        "Determine the critical value from the appropriate probability distribution. Lets find critical value using Z-score.\n"
      ],
      "metadata": {
        "id": "T5SkjkrN6KZO"
      }
    },
    {
      "cell_type": "code",
      "source": [
        "# Calculate the critical value (z-score) using the confidence level (assuming normal distribution)\n",
        "Critical_value = stats.norm.ppf((1 + Confidence_level) / 2)\n",
        "print(\"Critical_value:\", Critical_value)"
      ],
      "metadata": {
        "colab": {
          "base_uri": "https://localhost:8080/"
        },
        "id": "333iiy927Lil",
        "outputId": "2f54c5e0-362a-4781-faa2-3521699f5aea"
      },
      "execution_count": null,
      "outputs": [
        {
          "output_type": "stream",
          "name": "stdout",
          "text": [
            "Critical_value: 2.5758293035489004\n"
          ]
        }
      ]
    },
    {
      "cell_type": "markdown",
      "source": [
        "*Code explanation*: Let's see the code for calculating the critical value (z-score) using the confidence level.\n",
        "\n",
        "The critical value (z-score) is a standard score that corresponds to a specific level of confidence in a normal distribution. It is used to determine the margin of error in constructing a confidence interval. The critical value is based on the desired confidence level, which is often denoted as (1 - α), where α is the significance level (the probability of a type I error).\n",
        "\n",
        "In the context of a two-tailed confidence interval, we want to find the z-score that corresponds to the middle portion of the distribution, where (1 - α) / 2 lies. For example, for a 95% confidence level (α = 0.05), we want to find the z-score that corresponds to (1 - 0.05) / 2 = 0.975, which is the area between the critical value and the right tail of the distribution.\n",
        "\n",
        "Here's a step-by-step explanation of the code:\n",
        "\n",
        "1. `confidence_level`: This is the desired confidence level for the confidence interval, typically expressed as a decimal. For example, 95% confidence level is 0.95.\n",
        "\n",
        "2. `(1 + confidence_level) / 2`: We add 1 to the confidence level and then divide it by 2 to find the middle area (1 - α) / 2 in the two-tailed distribution. For a 95% confidence level, this results in (1 + 0.95) / 2 = 0.975.\n",
        "\n",
        "3. `stats.norm.ppf(...)`: This function is from the `scipy.stats` module and is used to find the critical value (z-score) for the given cumulative probability. The `ppf` stands for \"percent point function,\" which is the inverse of the cumulative distribution function (CDF). In other words, it calculates the value of the random variable for which the CDF equals the given probability.\n",
        "\n",
        "4. `critical_value`: Finally, the critical value is calculated using the `stats.norm.ppf(...)` function, which corresponds to the z-score that marks the cutoff points for the confidence interval.\n",
        "\n",
        "By using the critical value along with the standard error, you can construct the confidence interval around the sample mean. The margin of error is determined by multiplying the critical value with the standard error, and the lower and upper bounds of the confidence interval are then calculated by subtracting and adding the margin of error to the sample mean, respectively."
      ],
      "metadata": {
        "id": "jYy9i7OF7Tqx"
      }
    },
    {
      "cell_type": "markdown",
      "source": [
        "## Step 6: Compute the Margin of Error\n",
        "Multiply the standard error by the critical value to obtain the margin of error. The margin of error represents the maximum distance from the sample statistic within which the true population parameter is likely to fall.\n",
        "\n",
        "### **Margin of Error** = Critical Value * Standard Error\n"
      ],
      "metadata": {
        "id": "aFJ5wKpE8QzW"
      }
    },
    {
      "cell_type": "code",
      "source": [
        "# Calculate the margin of error\n",
        "Margin_of_error = Critical_value * Standard_error\n",
        "print(\"MArgin of error :\", Margin_of_error)"
      ],
      "metadata": {
        "colab": {
          "base_uri": "https://localhost:8080/"
        },
        "id": "Y_VNTood8QRA",
        "outputId": "0e66e49f-5160-4768-883d-f614cba3f471"
      },
      "execution_count": null,
      "outputs": [
        {
          "output_type": "stream",
          "name": "stdout",
          "text": [
            "MArgin of error : 10.97859155849463\n"
          ]
        }
      ]
    },
    {
      "cell_type": "markdown",
      "source": [
        "##  Step 7: Calculate the Confidence Interval\n",
        "\n",
        "The general formula for a confidence interval is:\n",
        "\n",
        "### **Confidence Interval** = Sample Statistic ± (Critical Value * Standard Error)\n",
        "\n",
        "The width of the confidence interval is determined by the margin of error and the level of confidence. A wider confidence interval implies greater uncertainty, while a narrower interval indicates higher precision in estimating the population parameter."
      ],
      "metadata": {
        "id": "Pbt7El1a8nsL"
      }
    },
    {
      "cell_type": "code",
      "source": [
        "# Calculate the lower and upper bounds of the confidence interval\n",
        "Lower_bound = Mean_fare - Margin_of_error\n",
        "Upper_bound = Mean_fare + Margin_of_error\n",
        "\n",
        "# Display the confidence interval\n",
        "print(\"99 % Confidence Interval:\", (Lower_bound, Upper_bound))"
      ],
      "metadata": {
        "colab": {
          "base_uri": "https://localhost:8080/"
        },
        "id": "Z3h-m1Xf8-hd",
        "outputId": "77ca9ac0-24fb-4177-f86f-53db0a24a40b"
      },
      "execution_count": null,
      "outputs": [
        {
          "output_type": "stream",
          "name": "stdout",
          "text": [
            "99 % Confidence Interval: (20.554408441505373, 42.51159155849463)\n"
          ]
        }
      ]
    },
    {
      "cell_type": "markdown",
      "source": [
        "This means that we are 99% confident that the true population mean of fares falls within this interval. In other words, if we were to take many random samples from the population and calculate the mean fare for each sample, approximately 99 out of 100 of those sample means would fall within the range of 20.55 to 42.51."
      ],
      "metadata": {
        "id": "-ais8GPF827J"
      }
    },
    {
      "cell_type": "markdown",
      "source": [
        "# When to use z- score, When to use t-score?\n",
        "\n",
        "- Use the t-score method when the sample size is small (n < 30) and the population standard deviation is unknown.\n",
        "- Use the z-score method when the sample size is large (n ≥ 30) or when the population standard deviation is known.\n",
        "\n",
        "-It's important to note that the z-score method assumes a normal distribution, while the t-score method accounts for the uncertainty introduced by estimating the population standard deviation from the sample when using small sample sizes. The choice between the two methods ensures that the confidence intervals and hypothesis tests are appropriately constructed and provide accurate results for different scenarios."
      ],
      "metadata": {
        "id": "zRlTALhD-CVZ"
      }
    },
    {
      "cell_type": "markdown",
      "source": [
        "#  What is the difference between Point Estimates and Confidence Interval?\n",
        "\n",
        "Ans:\n",
        "\n",
        "Point Estimation gives us a particular value as an estimate of Population parameter. Method of Moments and Maximum Likelihood estimator methods are used to derive Point Estimators for population parameters.\n",
        "\n",
        "Confidence interval gives us a range of values which is likely to contain the population parameter. Confidence interval is generally preferred, as it tells us how likely this interval is to contain the population parameter. This likeliness or probability is called Confidence Level or Confidence coefficient and represented by 1 — alpha, where alpha is the level of significance."
      ],
      "metadata": {
        "id": "AbSUkIIOPz8D"
      }
    },
    {
      "cell_type": "markdown",
      "source": [
        "# Why do we use only sample mean as test statistic most of times to calculate confidence intervals?\n",
        "\n",
        "The sample mean is commonly used as the test statistic to calculate confidence intervals because it is an unbiased estimator of the population mean, and it has desirable statistical properties that make it a reliable estimator for the population parameter.\n",
        "\n",
        "Here are some reasons why the sample mean is preferred as the test statistic for constructing confidence intervals:\n",
        "\n",
        "1. Unbiased Estimator: The sample mean is an unbiased estimator of the population mean. It means that, on average, the sample mean will be equal to the true population mean. This property makes the sample mean a good point estimator to estimate the unknown population parameter.\n",
        "\n",
        "2. Efficiency: The sample mean is an efficient estimator, which means it has lower variability (standard error) compared to other estimators. As a result, it provides more precise estimates of the population mean, leading to narrower confidence intervals.\n",
        "\n",
        "3. Central Limit Theorem: The sample mean follows a normal distribution, thanks to the Central Limit Theorem. This theorem states that, regardless of the distribution of the population, the distribution of sample means approaches a normal distribution as the sample size increases. This normal distribution property allows us to use the standard normal (z) or Student's t-distribution to calculate confidence intervals.\n",
        "\n",
        "4. Simplicity: The sample mean is straightforward to calculate and interpret, making it a convenient choice for practical purposes.\n",
        "\n",
        "5. Widely Used: The sample mean is widely used in statistical analysis, and there are well-established statistical tests and methods associated with it. This makes it easier to apply and compare results across different studies and experiments.\n",
        "\n",
        "6. Minimizes Variance: The sample mean minimizes the variance among all possible estimators, making it the most efficient choice for estimating the population mean.\n",
        "\n",
        "It's important to note that while the sample mean is commonly used, there are scenarios where other test statistics might be more appropriate. For instance, in situations where the data is not normally distributed or when estimating other population parameters (e.g., population proportion), different test statistics may be used (e.g., sample median, sample proportion). The choice of the test statistic depends on the specific research question and the underlying assumptions of the data."
      ],
      "metadata": {
        "id": "8KuV3bmPD4it"
      }
    },
    {
      "cell_type": "markdown",
      "source": [
        "## Conclusion:\n",
        "\n",
        "In this study, we have acquired a comprehensive understanding of constructing confidence intervals through a step-by-step approach. We applied this knowledge to practical examples and successfully built confidence intervals using both t-score and z-score methods."
      ],
      "metadata": {
        "id": "wOd36JQoghMJ"
      }
    },
    {
      "cell_type": "markdown",
      "source": [
        "### Thank you for reading till the end.\n",
        "\n",
        "## -Raviteja Padala\n",
        "\n",
        "\n",
        "https://www.linkedin.com/in/raviteja-padala/         \n"
      ],
      "metadata": {
        "id": "Qp834RkyHD4d"
      }
    }
  ]
}