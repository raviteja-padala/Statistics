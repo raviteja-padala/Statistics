{
 "cells": [
  {
   "cell_type": "markdown",
   "id": "b79a73e2",
   "metadata": {},
   "source": [
    "# Objective : To learn about Normality and methods to Assess Normality."
   ]
  },
  {
   "cell_type": "markdown",
   "id": "cd1ddfed",
   "metadata": {},
   "source": [
    "### Contents:\n",
    "\n",
    "1.Normality test <br>\n",
    "2.Normal Distribution <br>\n",
    "3.Normality Assumption <br>\n",
    "4.Methods of Assessing Normality <br>\n",
    "5.Visual Normality Check <br>\n",
    "    5.1.Histogram <br>\n",
    "    5.2.Q-Q plot <br>\n",
    "6.Statistical Normality Tests<br>\n",
    "    6.1.Shapiro-Wilk Test<br>\n",
    "    6.2.D’Agostino’s K-squared Test<br>\n",
    "    6.3.Anderson-Darling Test<br>\n"
   ]
  },
  {
   "cell_type": "markdown",
   "id": "7ae46080",
   "metadata": {},
   "source": [
    "# Normality Test:\n",
    "\n",
    "* A normality test is used to determine whether sample data has been drawn from a normally distributed population."
   ]
  },
  {
   "cell_type": "markdown",
   "id": "53cc48dd",
   "metadata": {},
   "source": [
    "# Normal Distribution:\n",
    "\n",
    "* Normal distribution, also known as the Gaussian distribution, is a probability distribution that is symmetric about the mean, showing that data near the mean are more frequent in occurrence than data far from the mean. \n",
    "* In a normal distribution the mean is zero and the standard deviation is 1. It has zero skew and a kurtosis of 3.\n",
    "* Many naturally-occurring phenomena tend to approximate the normal distribution.\n"
   ]
  },
  {
   "cell_type": "markdown",
   "id": "f2ad3f9b",
   "metadata": {},
   "source": [
    "# Normality Assumptions:\n",
    "\n",
    "* The normality assumption means that the collected data follows a normal distribution, which is essential for parametric assumption.\n",
    "* The data that is withdrawn from a sample of population must be of Gaussian Distribution.If the data is drawn with different distribution with assumption that methods used as Gaussian Distribution then it may lead to wrong or misleading findings.\n",
    "* Parametric statistical methods assume that the data has a known and specific distribution, often a Gaussian distribution. If a data sample is not Gaussian, then the assumptions of parametric statistical tests are violated and nonparametric statistical methods must be used.\n",
    "* if \"Data Is Gaussian\": <br>\n",
    "    \"Use Parametric Statistical Methods\"\n",
    "* else:  <br>\n",
    "    \"Use Nonparametric Statistical Methods\""
   ]
  },
  {
   "cell_type": "markdown",
   "id": "15a4aa37",
   "metadata": {},
   "source": [
    "# Methods of Assessing Normality:\n",
    "* There are several methods to assess whether data are normally distributed, and they fall under two broad categories Graphical—such as histogram, Q-Q probability plot—and Analytical—such as Shapiro–Wilk test, Kolmogorov–Smirnov test etc."
   ]
  },
  {
   "cell_type": "markdown",
   "id": "8f0f83e9",
   "metadata": {},
   "source": [
    "# Visual Normality Check:\n",
    "* One way to check the normality in the given sample data is to create the plots or visualize the data whether it is Gaussian or not.However these check are qualitative but they are fast and like the statistical tests, must still be interpreted before you can make a call about your data sample."
   ]
  },
  {
   "cell_type": "markdown",
   "id": "cf086355",
   "metadata": {},
   "source": [
    "#### Sample Data"
   ]
  },
  {
   "cell_type": "code",
   "execution_count": 1,
   "id": "092f4766",
   "metadata": {},
   "outputs": [
    {
     "data": {
      "text/plain": [
       "array([ 4.24350115e-01,  3.63343098e-01, -9.29081667e-02,  5.52214092e-01,\n",
       "       -8.12141338e-02,  2.18148609e+00, -6.79897673e-01, -5.02594246e-01,\n",
       "       -7.02346575e-01,  7.25874706e-01,  6.10465737e-01, -2.47206041e+00,\n",
       "       -7.62814945e-01, -8.64987534e-01, -8.99331653e-01, -3.24408263e-01,\n",
       "        6.15533020e-01,  1.57247936e+00, -8.20131752e-01, -7.03987523e-01,\n",
       "       -8.02245251e-01, -5.06159675e-01,  2.08019490e-01, -9.91747956e-01,\n",
       "       -5.49066591e-01,  3.27378147e-01,  7.04423796e-01, -7.12269782e-01,\n",
       "       -4.94997228e-01, -1.51661996e+00, -5.05148165e-01, -1.76789292e-01,\n",
       "        6.30983942e-01, -1.26193883e+00, -1.59794266e+00, -5.57518383e-01,\n",
       "       -1.11232967e+00, -6.18186685e-01, -1.30221847e+00, -1.90191536e+00,\n",
       "       -6.92822454e-01, -3.81357118e-01,  6.76939535e-01, -1.74477917e+00,\n",
       "       -4.17843530e-01, -1.83451398e+00, -2.03131757e+00, -2.80406010e-01,\n",
       "       -1.68419302e-01, -2.81924642e-02, -1.49051124e-02, -5.25244746e-01,\n",
       "        4.07080560e-01, -1.47414922e+00, -3.38062483e-01, -6.37733617e-01,\n",
       "       -1.21990074e+00, -3.51730294e-01,  1.69780337e+00, -2.68341207e-01,\n",
       "       -1.29807213e+00, -1.57538420e+00, -8.45776711e-01,  3.08661180e-01,\n",
       "        6.23582512e-01,  1.07217804e+00,  1.53741488e+00, -3.26211091e+00,\n",
       "       -1.44825208e-01, -4.38426591e-01,  2.56459049e-01,  1.12094147e+00,\n",
       "        1.22373566e+00, -9.78653594e-01,  5.59469624e-01,  4.11661482e-01,\n",
       "        1.14275031e-01,  8.42384722e-01,  2.42460632e-02, -7.55141270e-01,\n",
       "        1.97386119e-01,  1.15417151e+00,  1.90925027e-01,  1.94877193e-01,\n",
       "       -6.27703684e-01, -4.63520262e-01,  1.42865904e-01,  1.42768065e+00,\n",
       "       -2.92357522e+00,  1.23242781e+00, -5.68632235e-01, -1.74946752e+00,\n",
       "        4.80661614e-01, -4.81805195e-01,  1.74799049e+00,  6.59724182e-02,\n",
       "        2.58961820e-01,  1.82085149e+00,  3.80263049e-02, -4.47463570e-01,\n",
       "        1.11614252e+00, -9.62752581e-01,  1.80967650e-01,  3.11050343e-02,\n",
       "        3.53376421e-01, -7.16476926e-01,  1.01310525e+00, -7.11477890e-01,\n",
       "       -7.70061083e-01,  9.05507006e-01, -3.20272766e-02, -1.17558022e+00,\n",
       "       -7.72002976e-01, -1.91545105e-01, -8.79718786e-02,  1.17806725e+00,\n",
       "        4.79225817e-01,  8.29720695e-01, -5.19780822e-02,  3.24742168e-01,\n",
       "        2.43499665e-01,  3.06837774e-01, -2.00387688e-01,  3.76383921e-01,\n",
       "        6.22983963e-01,  1.44484044e+00,  9.36436453e-02, -7.19917734e-01,\n",
       "       -1.96179036e+00,  2.40318502e+00, -7.22958500e-01, -4.11999904e-01,\n",
       "       -1.69918546e+00,  1.83273798e+00,  3.39175510e-01,  4.52293000e-01,\n",
       "        5.65378765e-01, -2.28165684e-02,  6.10716175e-01,  1.23370857e+00,\n",
       "       -5.16448438e-01,  3.86542957e-01, -2.83197717e+00,  2.55631123e+00,\n",
       "        1.35454504e+00, -3.72600388e-01, -8.24942690e-01,  5.94549387e-01,\n",
       "       -9.52330520e-01,  5.07399214e-03, -1.61970143e-01, -1.50877187e+00,\n",
       "        6.75031755e-01,  1.25779549e-01, -1.16031266e+00,  8.19464285e-02,\n",
       "        1.17205252e+00, -3.03979397e-01,  2.12993255e+00,  3.35315237e-03,\n",
       "       -1.51540542e-01,  1.42391246e+00, -5.63197887e-01,  1.46376336e+00,\n",
       "        6.91187288e-01,  8.37299180e-01, -1.78817215e+00, -3.43172525e-01,\n",
       "       -2.45406962e+00, -4.30329584e-01, -1.62009358e+00, -1.44147128e-01,\n",
       "        1.84657603e-01,  7.90601681e-01,  4.17190140e-01, -4.85293283e-01,\n",
       "        2.06378834e+00,  6.65877200e-01, -1.87553135e+00, -1.01367993e+00,\n",
       "        9.70794463e-01,  5.84142757e-01,  5.20668846e-01, -2.06753732e+00,\n",
       "        6.21478771e-01, -6.20269388e-01, -8.15348009e-01,  9.02310453e-01,\n",
       "        1.08067824e-01, -1.22003457e+00, -9.38758640e-01,  9.66080090e-01,\n",
       "       -9.27605499e-01,  6.36858833e-02,  8.06959644e-01,  3.49759029e-01,\n",
       "        1.49500386e+00,  5.39311873e-02, -4.75178449e-01,  2.01579702e+00,\n",
       "       -4.14893480e-01,  4.14264495e-01,  6.11207307e-01, -1.53916076e-01,\n",
       "        1.68562787e+00,  1.58916580e+00,  5.56109051e-01,  1.18235631e+00,\n",
       "        1.09247975e+00,  2.18673715e+00,  5.38243908e-01, -1.83452476e+00,\n",
       "        1.51503677e+00,  1.86882496e-03,  4.38271235e-02, -1.06654357e+00,\n",
       "        1.91395703e+00, -6.86638204e-01, -1.91361553e+00,  8.07671676e-01,\n",
       "       -6.25874676e-01, -9.60853267e-02, -1.79437459e-01, -9.82581074e-01,\n",
       "       -7.60196282e-01,  4.10698635e-01, -7.77461879e-01, -1.15742301e+00,\n",
       "       -1.19830669e+00,  1.96633856e+00, -1.31843362e-01, -5.04831158e-01,\n",
       "        1.07440308e+00,  5.52600681e-01,  3.61556881e-01, -6.79065203e-01,\n",
       "        3.12826772e-02, -5.37845006e-01, -3.57076202e-01, -5.84004460e-02,\n",
       "       -1.20107956e+00,  1.09239861e-01,  7.89327936e-01, -6.32926021e-01,\n",
       "        1.20825862e+00,  6.63982867e-01,  3.96512038e-01,  1.99469177e+00,\n",
       "       -2.58148860e-01,  4.19207360e-01, -9.72586305e-01,  3.53776227e-01,\n",
       "        3.35209259e-01,  1.99769766e-01, -1.66503189e+00, -1.06004319e+00,\n",
       "        3.96410437e-01, -3.56512811e-01, -1.49819671e+00, -6.42290034e-01,\n",
       "        6.74374926e-01, -1.75764394e+00, -8.21559297e-01,  4.47210700e-01,\n",
       "        4.09549262e-01, -4.89354591e-02,  7.10799569e-01, -3.65820181e-01,\n",
       "       -5.03617240e-01,  8.40210616e-02, -1.50993997e+00,  1.18293550e+00,\n",
       "        5.34878376e-01, -1.30106613e+00,  8.73146287e-02, -1.18711639e+00,\n",
       "        2.93882389e-01,  5.04883559e-01,  5.53854653e-01, -7.70707500e-01,\n",
       "       -2.04141137e+00,  9.07002640e-01, -6.75256379e-01, -1.20660455e+00,\n",
       "       -2.00000448e+00,  7.36579846e-01,  4.94047713e-01,  1.02180758e+00,\n",
       "        5.21103903e-01,  5.26797257e-02,  6.07107287e-01,  1.57843152e-01,\n",
       "        7.67417990e-01,  1.19078762e+00, -8.65239776e-01, -8.18079002e-01,\n",
       "        6.16579824e-01, -8.61190280e-01, -2.30760613e+00,  5.83292638e-01,\n",
       "       -4.82090162e-01,  1.13902706e+00,  9.73007921e-02, -2.66935846e-01,\n",
       "       -1.02312795e-01, -8.86878314e-01, -3.20080181e-01, -4.20265454e-01,\n",
       "       -1.06767999e-01,  3.68850873e-01,  5.82257860e-01, -2.66677069e-01,\n",
       "       -1.60094008e-01,  3.90122020e-02, -3.85470818e-01,  5.83185311e-01,\n",
       "        1.78699982e-01,  1.14200396e+00,  6.95715881e-01, -1.94696750e-01,\n",
       "       -2.58061536e-02, -9.61285755e-01,  4.86281392e-01,  6.91930648e-01,\n",
       "        1.20244933e+00,  6.05926404e-01, -1.26803572e+00, -2.47003783e-01,\n",
       "       -6.08463298e-01,  7.93365877e-01,  4.18597402e-01,  1.20766034e+00,\n",
       "        8.66287587e-01, -1.75639960e-01,  7.05427372e-01,  1.82129328e+00,\n",
       "        3.26712385e-01,  2.36878310e+00, -5.63558513e-01, -1.24764261e+00,\n",
       "       -7.08119750e-02,  7.87641288e-01,  1.69039873e+00,  6.23936284e-01,\n",
       "       -6.73706126e-01,  1.16383118e+00, -4.79393499e-01,  1.33811643e+00,\n",
       "        6.58612684e-01, -1.01046358e+00,  4.22727880e-01, -1.74726659e-01,\n",
       "       -4.28101684e-01,  9.81485189e-01, -2.08139361e-01, -9.34012343e-01,\n",
       "        1.16211791e+00, -7.44582898e-01, -9.02497214e-01, -8.08675265e-01,\n",
       "        2.23020396e+00,  1.12588635e+00, -1.69838861e+00,  3.26097405e-01,\n",
       "       -2.79133807e-01,  7.38897912e-02, -2.24496686e+00, -8.19640947e-01,\n",
       "        2.95604687e-01,  6.55304106e-01, -4.50486953e-01, -1.14768399e+00,\n",
       "        2.94413451e+00, -1.89076854e-01,  1.72839265e+00,  1.39569443e+00,\n",
       "       -1.08338933e-01, -4.97165611e-01, -7.14469088e-01, -7.00139957e-01,\n",
       "       -4.78259634e-01,  7.59304053e-01,  7.58934355e-02,  8.37518947e-01,\n",
       "       -3.27256366e-01,  7.08088355e-03,  2.30459404e-01,  9.85551512e-01,\n",
       "        5.77359261e-01, -4.90149145e-01, -9.29030626e-01,  1.10106353e+00,\n",
       "       -6.14412499e-01, -6.40318364e-01,  1.39710432e+00,  1.26098188e-01,\n",
       "       -6.52856340e-01,  1.59962131e+00,  1.14273652e+00,  4.05409701e-01,\n",
       "       -1.05384460e-01,  8.30507407e-01, -1.08628979e+00, -1.15799117e+00,\n",
       "        7.13303019e-01,  1.44440621e+00,  9.98491231e-01,  1.21112312e+00,\n",
       "        1.18150574e+00, -1.15684599e-01, -3.28117417e+00, -5.23992928e-01,\n",
       "        9.00729768e-01, -4.17524743e-01, -8.86345835e-02,  1.39373101e+00,\n",
       "        2.32778008e-01,  1.37295233e+00, -6.12144295e-01,  1.92518546e+00,\n",
       "        2.22187649e-01, -1.52206084e-01, -3.51289631e-01, -3.63080992e-01,\n",
       "       -4.27399396e-01, -7.31738699e-01,  4.83272919e-01, -9.12569255e-01,\n",
       "        6.41471848e-03, -2.06973894e+00,  5.37479136e-01,  3.17899311e-01,\n",
       "        1.64132645e+00, -3.23876617e-01, -4.46864886e-01,  3.15996716e-01,\n",
       "       -4.01189335e-01,  7.68888368e-02, -1.36997932e+00,  7.46681367e-01,\n",
       "        2.95649895e-01,  6.47840411e-01, -1.80746360e+00, -8.87013661e-01,\n",
       "        9.63069760e-01, -8.18569856e-01, -1.45803932e+00, -3.05844044e+00,\n",
       "        5.51590807e-01, -3.90691658e-01,  4.72756205e-01, -1.62700531e+00,\n",
       "        1.10952140e+00,  2.49592267e+00, -1.09681333e+00,  7.49468791e-01,\n",
       "        2.03703460e+00,  1.42453942e+00,  1.30095624e+00,  1.56228309e+00,\n",
       "       -2.03222966e+00, -1.29196404e+00, -1.09292697e-01,  8.86719467e-02,\n",
       "       -1.78641617e-02,  8.66071271e-01, -1.38848339e+00, -1.77439612e+00,\n",
       "        4.97760603e-01,  1.64066513e+00,  2.16241326e-01,  3.42207344e-02,\n",
       "        7.58281184e-01,  3.90486374e-01,  1.29984713e+00, -3.26355244e-02,\n",
       "        6.58552332e-01, -1.69656238e+00, -6.21013117e-01,  1.47728672e+00,\n",
       "       -2.56763995e-01,  1.11953011e+00, -5.26543201e-01, -8.80245460e-01,\n",
       "       -8.51875998e-01,  1.38686312e+00, -8.90480313e-02, -1.97876959e+00,\n",
       "       -7.76296376e-01,  1.46053022e+00,  1.36663886e+00, -3.80031123e-01,\n",
       "        3.73287249e-01, -7.76987495e-01,  1.05222400e+00,  6.85457052e-01,\n",
       "        3.22315726e-01,  1.06158078e+00,  7.01985126e-01,  1.28374304e+00,\n",
       "       -5.64029536e-01,  1.10960200e-01, -3.02656824e-02, -2.52110084e-01,\n",
       "        8.92929117e-01,  1.40858574e+00,  2.61232757e-01, -2.28848424e-01,\n",
       "       -5.99476617e-01,  8.26040711e-02,  3.28264726e-01, -1.42498236e-01,\n",
       "       -1.56865065e+00, -1.01907898e+00,  4.28269994e-01,  5.62868485e-01,\n",
       "        1.01318180e+00, -2.94435460e-01,  8.70476404e-01,  9.85784606e-01,\n",
       "       -1.10593080e+00,  3.83186935e-01,  5.30084262e-01, -1.80838938e+00,\n",
       "        9.38759540e-01, -1.55783476e+00,  1.48456389e+00,  1.51168586e-01,\n",
       "        3.29186445e-01,  4.84656372e-02,  1.90508342e+00, -4.12895417e-01,\n",
       "       -3.62368889e-01,  1.54635239e-01, -1.45023083e+00,  6.43218715e-01,\n",
       "        1.51491686e+00,  3.02028696e-01, -7.20859631e-01, -5.06320738e-01,\n",
       "       -1.42212095e+00, -9.96465824e-01,  1.92315478e-01,  3.97915811e-01,\n",
       "       -3.44079339e-01,  3.26308822e-01, -1.31632015e+00,  8.38981604e-01,\n",
       "        5.77425934e-01,  6.58327307e-01, -2.69752130e-01,  1.50437482e+00,\n",
       "        1.26968907e-01,  1.89309229e-01, -1.26387993e-03,  1.91731717e-01,\n",
       "        1.84584415e-01,  2.25307094e-01, -1.87701181e+00, -1.22607519e+00,\n",
       "       -1.35527902e+00,  5.07729688e-01, -7.17629563e-01, -8.85411751e-01,\n",
       "       -4.97133677e-01, -1.30776456e+00, -1.96456523e+00, -7.25482940e-01,\n",
       "       -4.17400419e-01, -1.12444251e+00, -2.03109214e+00,  1.18738046e+00,\n",
       "        4.74964612e-01,  4.87276569e-01,  1.11946511e+00,  4.45310857e-01,\n",
       "        1.55174908e+00,  1.51568444e+00, -2.36956255e-01,  1.00388384e-01,\n",
       "       -5.92541622e-01,  4.60045760e-02, -5.35148272e-02, -1.18988160e+00,\n",
       "       -9.25241178e-01,  5.47034756e-01,  8.73668389e-01,  2.52145610e-01,\n",
       "        1.14021050e-02,  1.42661943e-01,  1.26500446e+00,  1.06828161e+00,\n",
       "        3.78674236e-01, -1.31046150e+00,  7.44817779e-01, -2.51059173e-01,\n",
       "        7.30836406e-01, -3.25645939e-02, -8.04467969e-01,  8.52398027e-01,\n",
       "        9.63587755e-01,  4.83538077e-01, -7.86980512e-01,  1.07316199e+00,\n",
       "       -4.49162132e-01,  6.48244550e-01, -2.00893113e+00, -2.72646163e-01,\n",
       "       -9.34009915e-01, -1.56801723e+00, -9.02812839e-02, -9.39925756e-01,\n",
       "        7.45525913e-01,  1.19140336e+00, -1.24309902e+00, -3.45040139e-01,\n",
       "        5.32638591e-01,  1.12412994e+00, -1.81292587e+00,  4.17656371e-01,\n",
       "        5.16068643e-01, -9.36443199e-01, -1.41140904e-01, -2.12615863e+00,\n",
       "       -2.90471937e+00, -3.05385051e-01, -9.64708168e-02,  1.25458074e+00,\n",
       "       -8.40346484e-01, -1.11091722e+00,  3.89058591e-01, -1.02443315e+00,\n",
       "       -4.23487433e-01,  4.40120137e-01,  6.81877854e-01, -1.57301987e+00,\n",
       "       -1.06750102e+00, -2.36571141e+00,  6.89869895e-01,  1.05222662e+00,\n",
       "        5.36977257e-01,  5.79054106e-01,  1.03554653e-01,  1.15770848e-01,\n",
       "        1.44103848e+00, -6.76684098e-01,  1.05973646e-01, -7.23422246e-02,\n",
       "        1.10350551e+00, -1.15847787e-01,  1.61030082e+00,  4.24983064e-01,\n",
       "       -3.14194991e-02,  8.52295471e-01,  1.78975869e+00,  1.33032894e+00,\n",
       "       -1.83978255e+00, -1.17235864e+00,  1.51497364e+00, -5.78728371e-01,\n",
       "       -3.63537797e-01,  6.88721269e-02,  1.39071508e+00,  1.40103268e+00,\n",
       "       -1.23374739e+00,  1.11086000e+00,  3.76404270e-01,  4.10161214e-01,\n",
       "        6.74009579e-02,  1.90101045e+00, -1.86364922e+00,  3.12226937e-01,\n",
       "       -1.02827122e+00, -1.52821448e+00, -3.29609249e-01, -1.99273016e+00,\n",
       "        6.90760840e-01,  5.27658163e-01, -6.72442461e-03, -9.99589816e-01,\n",
       "       -2.50065574e-01,  2.48407614e-01,  1.26745436e+00, -2.74266252e-01,\n",
       "       -8.92939209e-01,  1.15373002e+00,  2.16462909e+00,  4.56277423e-02,\n",
       "        6.85234629e-01, -4.67819062e-01,  4.47599860e-02,  2.08522973e-01,\n",
       "        4.28601549e-01, -2.61206335e+00,  9.64354179e-01, -2.21299243e-01,\n",
       "        6.08707380e-01,  8.20439162e-02,  6.87981422e-01,  1.67365992e-03,\n",
       "        1.29047411e+00, -6.73516098e-01, -7.75037451e-01, -3.70683972e+00,\n",
       "       -4.58206550e-01,  6.53925925e-01,  2.44702334e-01,  9.61301153e-03,\n",
       "       -1.77771804e-01, -3.12362261e-01,  1.70162175e+00, -1.09376743e+00,\n",
       "       -2.83862687e+00, -1.03722858e+00,  1.22556435e-01, -4.21392703e-01,\n",
       "       -1.17566965e+00,  2.82965468e-01,  3.80211910e-01, -3.40054490e-02,\n",
       "        2.38652844e-01,  3.70946819e-01,  2.16874661e-01, -4.07321821e-01,\n",
       "        5.80172803e-01, -1.23516815e+00,  2.97079322e-01, -2.17526082e+00,\n",
       "        1.40545830e+00, -7.73849009e-01, -7.88158588e-01,  9.56842133e-01,\n",
       "        3.55455774e-01, -9.98246475e-01, -1.09889775e+00,  1.71868131e+00,\n",
       "       -2.31357577e-01, -9.79117003e-01,  3.53159366e-01,  1.37378196e+00,\n",
       "        2.38581376e-01,  7.65242843e-02,  1.02446373e+00, -1.91145352e-01,\n",
       "       -3.95220211e-01,  9.09253565e-01, -6.10969697e-01, -2.92131053e+00,\n",
       "        9.48477962e-01, -2.01263026e+00,  1.27447624e+00,  2.38867358e+00,\n",
       "       -1.36221993e+00, -8.12048196e-02, -1.58283546e-01,  9.05402796e-01,\n",
       "        6.72061987e-01,  6.63495613e-02,  3.40042043e-01,  8.07473414e-01,\n",
       "       -7.93881583e-01,  2.42153798e+00, -1.96796058e+00, -5.00717057e-01,\n",
       "        6.06556727e-01, -1.36647186e+00,  2.97089642e-01, -2.76027680e-01,\n",
       "       -7.65003316e-01,  2.48933977e-01,  3.32373647e+00,  1.07172809e+00,\n",
       "        1.00523106e+00,  4.93933254e-01,  1.15491214e-01,  2.44870209e+00,\n",
       "       -1.85993666e+00,  1.37730382e+00, -1.06322512e+00, -1.25530565e+00,\n",
       "       -5.80878331e-01,  6.37040188e-01, -8.55461833e-01,  1.57636514e-01,\n",
       "        1.32282274e+00, -1.18390654e+00, -1.01663857e+00,  1.21077822e+00,\n",
       "       -2.06102510e+00, -1.87254359e+00,  1.82855973e+00,  1.08707759e+00,\n",
       "       -1.71898268e+00,  5.53798700e-01, -7.71932238e-01,  1.20920093e+00,\n",
       "        3.20686740e-01,  1.07501900e+00, -5.41671471e-01, -1.15524759e+00,\n",
       "        1.71009849e-01,  9.55413311e-02, -2.92886555e-01,  9.09151075e-02,\n",
       "        4.55159345e-02,  1.14199321e+00,  6.11369786e-01, -2.71858003e-01,\n",
       "        8.89057011e-01, -9.21337119e-01, -1.31197238e-01,  1.41540413e+00,\n",
       "       -4.05722028e-01,  8.78012930e-01,  1.81996458e+00,  1.46917581e-01,\n",
       "        5.55298554e-01,  5.33314628e-01, -8.56039503e-01, -1.51566023e+00,\n",
       "        2.21023730e-01,  5.57696229e-01, -1.00124339e+00,  8.31413559e-01,\n",
       "       -1.52446274e+00,  7.45803499e-01,  9.22529461e-01, -2.76264566e-01,\n",
       "       -9.11633049e-01, -2.29719234e+00, -1.66132831e-01,  3.87146623e-02,\n",
       "       -6.57292079e-01, -4.90424935e-01, -4.30123404e-03, -3.99573190e-01,\n",
       "        6.51570652e-01, -1.35673720e-01,  1.08643190e+00,  5.01700309e-01,\n",
       "       -1.11360575e+00, -8.01696243e-01,  1.31470863e+00, -2.77853191e-02,\n",
       "       -6.13108354e-01,  7.61367992e-01,  6.81799251e-01,  2.03304172e-01,\n",
       "        1.16607799e+00,  2.45530971e-01, -8.10007970e-01,  7.46010395e-01,\n",
       "        1.81054880e-01, -4.66958449e-03,  6.29734318e-01,  8.77630636e-01,\n",
       "       -2.16391857e-01,  1.12537234e+00, -5.20772295e-01, -7.86155464e-01,\n",
       "        3.86789176e-02, -2.38348616e-01, -9.62735708e-03,  6.17416531e-01,\n",
       "       -5.42458475e-01, -2.46603600e+00,  7.01293860e-01, -1.31409811e+00,\n",
       "        5.42922149e-01,  1.44158118e+00, -1.60643743e-01, -2.65255133e-01,\n",
       "        8.48507852e-01, -7.52350443e-01, -5.87558094e-01, -2.85195808e-01,\n",
       "       -1.22762418e-01, -1.15547348e+00, -1.02451338e+00, -2.75888149e-01,\n",
       "       -8.24797517e-01, -2.01338443e+00, -1.72906888e-01, -5.07549905e-01,\n",
       "        7.24817546e-01,  1.27697227e-01,  8.67723949e-01, -2.45319812e-01,\n",
       "       -2.45263793e+00, -3.94684184e-01, -4.43327635e-02, -6.42699925e-01,\n",
       "       -6.23681211e-01,  2.38596660e+00, -1.78014183e+00, -3.40467580e-01,\n",
       "        1.21504718e-01, -1.84542619e+00,  9.62901894e-01, -5.78622776e-02,\n",
       "        8.72503631e-01,  2.33773967e-01,  3.12350622e-01, -8.12448902e-01,\n",
       "        3.57460903e-01,  1.00417848e+00,  1.24080283e+00, -3.02985583e-01,\n",
       "        4.14890690e-01,  4.30457655e-01,  2.21834519e+00, -1.19615410e+00,\n",
       "       -6.15006058e-01, -4.29761809e-02,  3.55921404e-01,  1.11962438e+00,\n",
       "        1.37987918e+00, -7.23383894e-01, -1.47897133e+00,  1.39455516e+00,\n",
       "        1.05639548e+00, -1.09055569e+00,  3.97369007e-01,  1.15727346e+00,\n",
       "        2.45403237e-01, -2.79649100e-01,  1.46639472e+00,  1.15288516e+00,\n",
       "       -4.67561893e-01, -7.01408093e-01, -9.47569717e-01, -4.13304683e-01,\n",
       "        2.27535865e-02,  6.72429592e-01,  5.11966434e-01, -9.62037731e-01,\n",
       "        6.75132222e-01,  3.91779248e-01,  3.42397083e+00, -7.27756608e-01,\n",
       "        5.91526113e-01, -4.13428702e-01, -6.31690436e-01,  1.27638201e+00,\n",
       "        2.82380049e-01, -1.38983644e+00, -2.53611458e+00,  1.36244611e+00,\n",
       "       -4.79465439e-02,  1.35366871e+00, -1.67315584e+00, -2.19717461e+00,\n",
       "       -2.80150897e-01,  9.74880608e-01,  2.89859072e-01, -1.90085638e+00,\n",
       "        1.60691764e+00, -9.84154341e-01,  1.36654408e-01,  8.02446069e-01,\n",
       "       -4.33754100e-01, -5.00114217e-01, -1.19358420e+00, -1.04405823e+00,\n",
       "        4.86957264e-01, -4.79133272e-02,  1.05820888e+00,  7.96290293e-01,\n",
       "       -1.54646156e+00, -9.44566273e-01,  1.02565320e+00, -1.95383464e-01,\n",
       "        6.79690286e-01, -1.18432726e-01, -8.22855207e-01, -2.17546109e-01,\n",
       "        2.18624177e+00, -6.01295172e-01, -1.26621954e+00,  2.01289074e-01,\n",
       "       -6.39671294e-01, -2.63227423e-02, -1.69585702e+00,  1.34276423e+00,\n",
       "       -1.87482893e+00,  2.22322239e+00,  1.07784651e+00, -5.84549587e-01,\n",
       "        1.47518461e+00,  7.31463358e-01,  3.88917011e-01, -5.33744698e-01,\n",
       "        7.41262339e-01,  6.27429604e-02, -1.73459337e+00,  2.34356762e-01,\n",
       "        9.71682234e-01, -2.47263099e-01, -4.00862218e-01,  5.45654083e-01])"
      ]
     },
     "execution_count": 1,
     "metadata": {},
     "output_type": "execute_result"
    }
   ],
   "source": [
    "# importing libraries\n",
    "import numpy as np\n",
    "import pandas as pd\n",
    "import matplotlib.pyplot as plt\n",
    "%matplotlib inline\n",
    "import seaborn as sns\n",
    "\n",
    "import scipy.stats as stats\n",
    "import random\n",
    "random.seed(42)\n",
    "\n",
    "# generate univariate observations\n",
    "DataToTest =  stats.norm(scale=1, loc=0).rvs(1000)\n",
    "DataToTest"
   ]
  },
  {
   "cell_type": "code",
   "execution_count": 2,
   "id": "95675e82",
   "metadata": {},
   "outputs": [
    {
     "name": "stdout",
     "output_type": "stream",
     "text": [
      "mean=-0.006 stdv=1.029\n"
     ]
    }
   ],
   "source": [
    "print('mean=%.3f stdv=%.3f' % (np.mean(DataToTest), np.std(DataToTest)))"
   ]
  },
  {
   "cell_type": "markdown",
   "id": "789a380d",
   "metadata": {},
   "source": [
    "## Histogram\n",
    "* Histograms are basically used to represent data provided in groups/bins.It is one of the popular method for representing numerical data distribution.It is a type of bar plot where X-axis represents the bin ranges while Y-axis gives us frequency.The Histogram shows us bins across x axis have their ordinal relationship and count in each bin on the y-axis."
   ]
  },
  {
   "cell_type": "code",
   "execution_count": 3,
   "id": "41cfc099",
   "metadata": {},
   "outputs": [
    {
     "data": {
      "image/png": "[encoded data removed]",
      "text/plain": [
       "<Figure size 432x288 with 1 Axes>"
      ]
     },
     "metadata": {
      "needs_background": "light"
     },
     "output_type": "display_data"
    }
   ],
   "source": [
    "# plotting histogram matplotlib\n",
    "\n",
    "plt.hist(DataToTest)\n",
    "plt.show()"
   ]
  },
  {
   "cell_type": "code",
   "execution_count": 4,
   "id": "5d5ad41f",
   "metadata": {},
   "outputs": [
    {
     "data": {
      "text/plain": [
       "<AxesSubplot:ylabel='Count'>"
      ]
     },
     "execution_count": 4,
     "metadata": {},
     "output_type": "execute_result"
    },
    {
     "data": {
      "image/png": "[encoded data removed]",
      "text/plain": [
       "<Figure size 432x288 with 1 Axes>"
      ]
     },
     "metadata": {
      "needs_background": "light"
     },
     "output_type": "display_data"
    }
   ],
   "source": [
    "# plotting histogram seaborn\n",
    "\n",
    "sns.histplot(DataToTest, kde=True)"
   ]
  },
  {
   "cell_type": "markdown",
   "id": "dc801360",
   "metadata": {},
   "source": [
    "## Quantile-Quantile Plot\n",
    "* Quantile Quantile plot is yet another popular visualization for validating the distribution of data sample.QQ Plot generates its own sample of distribution that we are comparing with in case of Gaussian Distribution.These samples are divided into groups called Quantiles.Each Data point in the sample is correlated with a similar member from the distribution at the same cumulative distribution\n",
    "\n",
    "* Hence Resulting Points are plotted in 2D Plain as a scatter plot with the idealized value on the x-axis and the data sample on the y-axis.\n",
    "\n",
    "* The line will run through from bottom left to the top right which indicate the perfect Gaussian Distribution of sample data.However Deviations by the dots from the line shows a deviation from the expected distribution.\n",
    "\n",
    "* QQ Plot can be visualized using qqplot() statsmodels function. Function takes data sample as argument as well as line argument assigned to 's' in order to draw the standardized line."
   ]
  },
  {
   "cell_type": "code",
   "execution_count": 5,
   "id": "afe40de9",
   "metadata": {},
   "outputs": [
    {
     "data": {
      "image/png": "[encoded data removed]",
      "text/plain": [
       "<Figure size 432x288 with 1 Axes>"
      ]
     },
     "metadata": {
      "needs_background": "light"
     },
     "output_type": "display_data"
    }
   ],
   "source": [
    "import scipy.stats as stats\n",
    "stats.probplot(DataToTest, dist='norm', plot=plt)\n",
    "plt.title(\"Q-Q Plot\",fontweight=\"bold\", fontsize=15)\n",
    "plt.show();"
   ]
  },
  {
   "cell_type": "markdown",
   "id": "ed33bc33",
   "metadata": {},
   "source": [
    "#### Sample Dataset"
   ]
  },
  {
   "cell_type": "code",
   "execution_count": 6,
   "id": "a011d814",
   "metadata": {},
   "outputs": [
    {
     "data": {
      "text/html": [
       "<div>\n",
       "<style scoped>\n",
       "    .dataframe tbody tr th:only-of-type {\n",
       "        vertical-align: middle;\n",
       "    }\n",
       "\n",
       "    .dataframe tbody tr th {\n",
       "        vertical-align: top;\n",
       "    }\n",
       "\n",
       "    .dataframe thead th {\n",
       "        text-align: right;\n",
       "    }\n",
       "</style>\n",
       "<table border=\"1\" class=\"dataframe\">\n",
       "  <thead>\n",
       "    <tr style=\"text-align: right;\">\n",
       "      <th></th>\n",
       "      <th>total_bill</th>\n",
       "      <th>tip</th>\n",
       "      <th>sex</th>\n",
       "      <th>smoker</th>\n",
       "      <th>day</th>\n",
       "      <th>time</th>\n",
       "      <th>size</th>\n",
       "    </tr>\n",
       "  </thead>\n",
       "  <tbody>\n",
       "    <tr>\n",
       "      <th>0</th>\n",
       "      <td>16.99</td>\n",
       "      <td>1.01</td>\n",
       "      <td>Female</td>\n",
       "      <td>No</td>\n",
       "      <td>Sun</td>\n",
       "      <td>Dinner</td>\n",
       "      <td>2</td>\n",
       "    </tr>\n",
       "    <tr>\n",
       "      <th>1</th>\n",
       "      <td>10.34</td>\n",
       "      <td>1.66</td>\n",
       "      <td>Male</td>\n",
       "      <td>No</td>\n",
       "      <td>Sun</td>\n",
       "      <td>Dinner</td>\n",
       "      <td>3</td>\n",
       "    </tr>\n",
       "    <tr>\n",
       "      <th>2</th>\n",
       "      <td>21.01</td>\n",
       "      <td>3.50</td>\n",
       "      <td>Male</td>\n",
       "      <td>No</td>\n",
       "      <td>Sun</td>\n",
       "      <td>Dinner</td>\n",
       "      <td>3</td>\n",
       "    </tr>\n",
       "    <tr>\n",
       "      <th>3</th>\n",
       "      <td>23.68</td>\n",
       "      <td>3.31</td>\n",
       "      <td>Male</td>\n",
       "      <td>No</td>\n",
       "      <td>Sun</td>\n",
       "      <td>Dinner</td>\n",
       "      <td>2</td>\n",
       "    </tr>\n",
       "    <tr>\n",
       "      <th>4</th>\n",
       "      <td>24.59</td>\n",
       "      <td>3.61</td>\n",
       "      <td>Female</td>\n",
       "      <td>No</td>\n",
       "      <td>Sun</td>\n",
       "      <td>Dinner</td>\n",
       "      <td>4</td>\n",
       "    </tr>\n",
       "  </tbody>\n",
       "</table>\n",
       "</div>"
      ],
      "text/plain": [
       "   total_bill   tip     sex smoker  day    time  size\n",
       "0       16.99  1.01  Female     No  Sun  Dinner     2\n",
       "1       10.34  1.66    Male     No  Sun  Dinner     3\n",
       "2       21.01  3.50    Male     No  Sun  Dinner     3\n",
       "3       23.68  3.31    Male     No  Sun  Dinner     2\n",
       "4       24.59  3.61  Female     No  Sun  Dinner     4"
      ]
     },
     "execution_count": 6,
     "metadata": {},
     "output_type": "execute_result"
    }
   ],
   "source": [
    "#importing dataset to check disribution using histogram and Q-Q plot\n",
    "df_tips = sns.load_dataset(('tips'))\n",
    "df_tips.head()\n"
   ]
  },
  {
   "cell_type": "code",
   "execution_count": 7,
   "id": "7fbb3fe6",
   "metadata": {},
   "outputs": [
    {
     "data": {
      "text/html": [
       "<div>\n",
       "<style scoped>\n",
       "    .dataframe tbody tr th:only-of-type {\n",
       "        vertical-align: middle;\n",
       "    }\n",
       "\n",
       "    .dataframe tbody tr th {\n",
       "        vertical-align: top;\n",
       "    }\n",
       "\n",
       "    .dataframe thead th {\n",
       "        text-align: right;\n",
       "    }\n",
       "</style>\n",
       "<table border=\"1\" class=\"dataframe\">\n",
       "  <thead>\n",
       "    <tr style=\"text-align: right;\">\n",
       "      <th></th>\n",
       "      <th>total_bill</th>\n",
       "      <th>tip</th>\n",
       "      <th>size</th>\n",
       "    </tr>\n",
       "  </thead>\n",
       "  <tbody>\n",
       "    <tr>\n",
       "      <th>0</th>\n",
       "      <td>16.99</td>\n",
       "      <td>1.01</td>\n",
       "      <td>2</td>\n",
       "    </tr>\n",
       "    <tr>\n",
       "      <th>1</th>\n",
       "      <td>10.34</td>\n",
       "      <td>1.66</td>\n",
       "      <td>3</td>\n",
       "    </tr>\n",
       "    <tr>\n",
       "      <th>2</th>\n",
       "      <td>21.01</td>\n",
       "      <td>3.50</td>\n",
       "      <td>3</td>\n",
       "    </tr>\n",
       "    <tr>\n",
       "      <th>3</th>\n",
       "      <td>23.68</td>\n",
       "      <td>3.31</td>\n",
       "      <td>2</td>\n",
       "    </tr>\n",
       "    <tr>\n",
       "      <th>4</th>\n",
       "      <td>24.59</td>\n",
       "      <td>3.61</td>\n",
       "      <td>4</td>\n",
       "    </tr>\n",
       "    <tr>\n",
       "      <th>...</th>\n",
       "      <td>...</td>\n",
       "      <td>...</td>\n",
       "      <td>...</td>\n",
       "    </tr>\n",
       "    <tr>\n",
       "      <th>239</th>\n",
       "      <td>29.03</td>\n",
       "      <td>5.92</td>\n",
       "      <td>3</td>\n",
       "    </tr>\n",
       "    <tr>\n",
       "      <th>240</th>\n",
       "      <td>27.18</td>\n",
       "      <td>2.00</td>\n",
       "      <td>2</td>\n",
       "    </tr>\n",
       "    <tr>\n",
       "      <th>241</th>\n",
       "      <td>22.67</td>\n",
       "      <td>2.00</td>\n",
       "      <td>2</td>\n",
       "    </tr>\n",
       "    <tr>\n",
       "      <th>242</th>\n",
       "      <td>17.82</td>\n",
       "      <td>1.75</td>\n",
       "      <td>2</td>\n",
       "    </tr>\n",
       "    <tr>\n",
       "      <th>243</th>\n",
       "      <td>18.78</td>\n",
       "      <td>3.00</td>\n",
       "      <td>2</td>\n",
       "    </tr>\n",
       "  </tbody>\n",
       "</table>\n",
       "<p>244 rows × 3 columns</p>\n",
       "</div>"
      ],
      "text/plain": [
       "     total_bill   tip  size\n",
       "0         16.99  1.01     2\n",
       "1         10.34  1.66     3\n",
       "2         21.01  3.50     3\n",
       "3         23.68  3.31     2\n",
       "4         24.59  3.61     4\n",
       "..          ...   ...   ...\n",
       "239       29.03  5.92     3\n",
       "240       27.18  2.00     2\n",
       "241       22.67  2.00     2\n",
       "242       17.82  1.75     2\n",
       "243       18.78  3.00     2\n",
       "\n",
       "[244 rows x 3 columns]"
      ]
     },
     "execution_count": 7,
     "metadata": {},
     "output_type": "execute_result"
    }
   ],
   "source": [
    "#plotting histogram and Quantile-Quantile plot for df_tips dataset\n",
    "\n",
    "#numerical columns in df_tips\n",
    "\n",
    "df_num = df_tips[['total_bill','tip','size']]\n",
    "df_num"
   ]
  },
  {
   "cell_type": "code",
   "execution_count": 8,
   "id": "3631f4d7",
   "metadata": {},
   "outputs": [
    {
     "data": {
      "image/png": "[encoded data removed]",
      "text/plain": [
       "<Figure size 720x288 with 2 Axes>"
      ]
     },
     "metadata": {
      "needs_background": "light"
     },
     "output_type": "display_data"
    },
    {
     "data": {
      "image/png": "[encoded data removed]",
      "text/plain": [
       "<Figure size 720x288 with 2 Axes>"
      ]
     },
     "metadata": {
      "needs_background": "light"
     },
     "output_type": "display_data"
    },
    {
     "data": {
      "image/png": "[encoded data removed]",
      "text/plain": [
       "<Figure size 720x288 with 2 Axes>"
      ]
     },
     "metadata": {
      "needs_background": "light"
     },
     "output_type": "display_data"
    }
   ],
   "source": [
    "for feature in df_num:\n",
    "    plt.figure(figsize=(10,4))\n",
    "    plt.subplot(121)\n",
    "    sns.histplot(data=df_tips, x=feature, kde=True)\n",
    "    plt.title(\"{}'s distribution\".format(feature),fontweight=\"bold\", fontsize=15)\n",
    "    \n",
    "    plt.subplot(122)\n",
    "    stats.probplot(df_tips[feature], dist='norm', plot=plt)\n",
    "    plt.title(\"{}'s Q-Q Plot\".format(feature),fontweight=\"bold\", fontsize=15)\n",
    "    plt.show();"
   ]
  },
  {
   "cell_type": "markdown",
   "id": "48c12e72",
   "metadata": {},
   "source": [
    "# Statistical Normality Tests\n",
    "\n",
    "* There are number of statistical tests which can be performed to check whether data sample falls in Gaussian Distribution or not.Each and every test have different assumption and considers different aspect of sample data.\n",
    "\n",
    "* *Interpretation of Tests:*\n",
    "\n",
    "* Each Tests will return following two metrics that will help us to interpret the results.\n",
    "\n",
    "* **Test Statistic**\n",
    "--> A quantity calculated by the test that can be interpreted in the context of the test via comparing it to critical values from the distribution of the test statistic.\n",
    "\n",
    "* **p-value**\n",
    "--> p-value used to validate whether data is drawn from Gaussian Distribution.p-value is one of the quick and accurate statistical method to check statistic in real world applications.\n",
    "\n",
    "* The Statistical Tests make an assumption that the sample drawn from Gaussian Distribution.This is called null hypothesis or H0.A threshold level known as alpha which is usually 5% that is used to interpret the p-value.\n",
    "\n",
    "* In the SciPy implementation of these tests, you can interpret the p value as follows. \n",
    "* p-value <= alpha: reject H0, not normal. \n",
    "* p-value > alpha: fail to reject H0, normal. \n",
    "\n",
    "* Broadly speaking , results with a larger p-value to confirm that our sample was likely drawn from a Gaussian distribution.\n"
   ]
  },
  {
   "cell_type": "markdown",
   "id": "bc78f65c",
   "metadata": {},
   "source": [
    "## Shapiro-Wilk Test \n",
    "\n",
    "* The Shapiro–Wilk test is essentially a goodness-of-fit test. That is, it examines how close the sample data fit to a normal distribution. It does this by ordering and standardizing the sample (standardizing refers to converting the data to a distribution with mean μ = 0 and standard deviation σ = 1 ).\n",
    "\n",
    "* How do you interpret a Shapiro-Wilk test for normality?\n",
    "*  If the Significance value of the Shapiro-Wilk Test is greater than 0.05, the data is normal. If it is below 0.05, the data significantly deviate from a normal distribution.\n",
    "\n",
    "* *Null Hypothesis (H0):*      Data is Normally Distributed.\n",
    "* *Alternate Hypothesis (HA):* Data is not Normally Distributed."
   ]
  },
  {
   "cell_type": "code",
   "execution_count": 9,
   "id": "2f808c7c",
   "metadata": {},
   "outputs": [
    {
     "name": "stdout",
     "output_type": "stream",
     "text": [
      "Test_statistic=0.90,  p_value=0.000000000008200817629144818710\n",
      "Sample does not look Gaussian(reject H0)\n"
     ]
    }
   ],
   "source": [
    "#importing scipy library and shapiro\n",
    "from scipy.stats import shapiro\n",
    "\n",
    "tip_data = df_tips['tip']\n",
    "\n",
    "#Shapiro() takes Parameters: Array of sample data, Returns: The test statistic and The p-value for the hypothesis test.\n",
    "\n",
    "test_statistic, p_value = shapiro(tip_data)\n",
    "print('Test_statistic=%.2f,  p_value=%.30f' % (test_statistic, p_value))\n",
    "\n",
    "alpha = 0.05\n",
    "\n",
    "if p_value > alpha:\n",
    "    print('Sample looks Gaussian(fail to reject H0)')\n",
    "else:\n",
    "    print('Sample does not look Gaussian(reject H0)')"
   ]
  },
  {
   "cell_type": "code",
   "execution_count": 10,
   "id": "00fce87a",
   "metadata": {},
   "outputs": [
    {
     "name": "stdout",
     "output_type": "stream",
     "text": [
      "Test_statistic=1.00,  p_value=0.454386651515960693359375000000\n",
      "Sample looks Gaussian(fail to reject H0)\n"
     ]
    }
   ],
   "source": [
    "#using random generated normal data to test shapiro\n",
    "\n",
    "DataToTest =  stats.norm(scale=1, loc=0).rvs(1000)\n",
    "\n",
    "#Shapiro() takes Parameters: Array of sample data, Returns: The test statistic and The p-value for the hypothesis test.\n",
    "\n",
    "test_statistic, p_value = shapiro(DataToTest)\n",
    "print('Test_statistic=%.2f,  p_value=%.30f' % (test_statistic, p_value))\n",
    "\n",
    "alpha = 0.05\n",
    "\n",
    "if p_value > alpha:\n",
    "    print('Sample looks Gaussian(fail to reject H0)')\n",
    "else:\n",
    "    print('Sample does not look Gaussian(reject H0)')"
   ]
  },
  {
   "cell_type": "markdown",
   "id": "8ae4caa4",
   "metadata": {},
   "source": [
    "## D’Agostino’s K-squared Test\n",
    "\n",
    "* The D’Agostino’s K² test calculates summary statistics from the data, namely kurtosis and skewness, to determine if the data distribution departs from the normal distribution.\n",
    "\n",
    "* Skew is a quantification of how much a distribution is pushed left or right, a measure of asymmetry in the distribution.\n",
    "* Kurtosis quantifies how much of the distribution is in the tail. It is a simple and commonly used statistical test for normality.\n",
    "\n",
    "* the scipy's normaltest() implements D’Agostino’s K² Test and it returns the test statistic and the p-value."
   ]
  },
  {
   "cell_type": "code",
   "execution_count": 11,
   "id": "223a57d0",
   "metadata": {},
   "outputs": [
    {
     "name": "stdout",
     "output_type": "stream",
     "text": [
      "Test_statistic=79.38,  p_value=0.000000000000000005796294322907\n",
      "Sample does not look Gaussian(reject H0)\n"
     ]
    }
   ],
   "source": [
    "# importing  D'Agostino and Pearson's Test\n",
    "from scipy.stats import normaltest\n",
    "\n",
    "# normaltest() takes Parameters: Array of sample data, Returns: The test statistic and The p-value for the hypothesis test.\n",
    "\n",
    "test_statistic, p_value = normaltest(tip_data)\n",
    "print('Test_statistic=%.2f,  p_value=%.30f' % (test_statistic, p_value))\n",
    "\n",
    "alpha = 0.05\n",
    "\n",
    "if p_value > alpha:\n",
    "    print('Sample looks Gaussian(fail to reject H0)')\n",
    "else:\n",
    "    print('Sample does not look Gaussian(reject H0)')"
   ]
  },
  {
   "cell_type": "code",
   "execution_count": 12,
   "id": "b404f7c2",
   "metadata": {},
   "outputs": [
    {
     "name": "stdout",
     "output_type": "stream",
     "text": [
      "Test_statistic=1.15,  p_value=0.561722170854966784681039371208\n",
      "Sample looks Gaussian(fail to reject H0)\n"
     ]
    }
   ],
   "source": [
    "#using random generated normal data to test D’Agostino’s K² Test \n",
    "\n",
    "DataToTest =  stats.norm(scale=1, loc=0).rvs(1000)\n",
    "\n",
    "# normaltest() takes Parameters: Array of sample data, Returns: The test statistic and The p-value for the hypothesis test.\n",
    "\n",
    "test_statistic, p_value = normaltest(DataToTest)\n",
    "print('Test_statistic=%.2f,  p_value=%.30f' % (test_statistic, p_value))\n",
    "\n",
    "alpha = 0.05\n",
    "\n",
    "if p_value > alpha:\n",
    "    print('Sample looks Gaussian(fail to reject H0)')\n",
    "else:\n",
    "    print('Sample does not look Gaussian(reject H0)')"
   ]
  },
  {
   "cell_type": "markdown",
   "id": "4d2ae305",
   "metadata": {},
   "source": [
    "## Anderson-Darling Test\n",
    "* Anderson-Darling Test is a statistical test that can be used to evaluate whether a data sample is in Standard Gaussian Distribution or not.The test is a improved version of nonparametric goodness-of-fit statistical test i.e. Kolmogorov-Smirnov test.\n",
    "\n",
    "* One of the features of Anderson-Darling test is that it returns list of critical values other than single p-value hence it provide us more insights on the final result.\n",
    "\n",
    "* The anderson() SciPy function implements the Anderson-Darling test. It takes as parameters the data sample and the name of the distribution to test it against. By default, the test will check against the Gaussian distribution (dist=’norm’)"
   ]
  },
  {
   "cell_type": "code",
   "execution_count": 13,
   "id": "bc5802a7",
   "metadata": {},
   "outputs": [
    {
     "name": "stdout",
     "output_type": "stream",
     "text": [
      "Anderson Test Statistic= 5.299927589126298\n",
      "Anderson Significance level= [15.  10.   5.   2.5  1. ]\n",
      "Anderson Critical values= [0.567 0.646 0.775 0.904 1.075]\n",
      "-----------------------------------------------------------\n",
      "At Significance level 15.000 the critical value 0.567 is less than Test statistic 5.300, DATA DOES NOT LOOK NORMAL(reject H0)\n",
      "At Significance level 10.000 the critical value 0.646 is less than Test statistic 5.300, DATA DOES NOT LOOK NORMAL(reject H0)\n",
      "At Significance level 5.000 the critical value 0.775 is less than Test statistic 5.300, DATA DOES NOT LOOK NORMAL(reject H0)\n",
      "At Significance level 2.500 the critical value 0.904 is less than Test statistic 5.300, DATA DOES NOT LOOK NORMAL(reject H0)\n",
      "At Significance level 1.000 the critical value 1.075 is less than Test statistic 5.300, DATA DOES NOT LOOK NORMAL(reject H0)\n"
     ]
    }
   ],
   "source": [
    "# Anderson-Darling Test\n",
    "from scipy.stats import anderson\n",
    "\n",
    "# anderson() takes Parameters: Array of sample data, dist='norm' and \n",
    "# Returns: Test statistic , critical_values, Significance levels for the corresponding critical values.\n",
    "\n",
    "anderson_result=anderson(tip_data)\n",
    "\n",
    "print(\"Anderson Test Statistic=\", anderson_result.statistic)\n",
    "print(\"Anderson Significance level=\",anderson_result.significance_level)\n",
    "print(\"Anderson Critical values=\",anderson_result.critical_values)\n",
    "print(\"-----------------------------------------------------------\")\n",
    "\n",
    "# interpret results\n",
    "for i in range(len(anderson_result.critical_values)):\n",
    "    SignificaneLevel, CriticalValues = anderson_result.significance_level[i], anderson_result.critical_values[i]\n",
    "    if anderson_result.statistic < anderson_result.critical_values[i]:\n",
    "        print('At Significance level %.3f the critical value %.3f is greater than Test statistic %.3f,DATA LOOKS NORMAL(fail to reject H0)' % (SignificaneLevel, CriticalValues, anderson_result.statistic))\n",
    "    else:\n",
    "        print('At Significance level %.3f the critical value %.3f is less than Test statistic %.3f, DATA DOES NOT LOOK NORMAL(reject H0)' % (SignificaneLevel, CriticalValues, anderson_result.statistic))"
   ]
  },
  {
   "cell_type": "code",
   "execution_count": 14,
   "id": "ac4f1396",
   "metadata": {},
   "outputs": [
    {
     "name": "stdout",
     "output_type": "stream",
     "text": [
      "Anderson Test Statistic= 0.15741817357955767\n",
      "Anderson Significance level= [15.  10.   5.   2.5  1. ]\n",
      "Anderson Critical values= [0.555 0.632 0.759 0.885 1.053]\n",
      "-----------------------------------------------------------\n",
      "At Significance level 15.000, critical value 0.555 is greater than Test statistic 0.157, DATA LOOKS NORMAL(fail to reject H0)\n",
      "At Significance level 10.000, critical value 0.632 is greater than Test statistic 0.157, DATA LOOKS NORMAL(fail to reject H0)\n",
      "At Significance level 5.000, critical value 0.759 is greater than Test statistic 0.157, DATA LOOKS NORMAL(fail to reject H0)\n",
      "At Significance level 2.500, critical value 0.885 is greater than Test statistic 0.157, DATA LOOKS NORMAL(fail to reject H0)\n",
      "At Significance level 1.000, critical value 1.053 is greater than Test statistic 0.157, DATA LOOKS NORMAL(fail to reject H0)\n"
     ]
    }
   ],
   "source": [
    "# #using random generated normal data to test  Anderson-Darling Test\n",
    "from scipy.stats import anderson\n",
    "\n",
    "# anderson() takes Parameters: Array of sample data, dist='norm' and \n",
    "# Returns: Test statistic , critical_values, Significance levels for the corresponding critical values.\n",
    "\n",
    "DataToTest = np.random.normal(size=100)#genrating random normal data\n",
    "anderson_result=anderson(DataToTest)#loading data to anderson\n",
    "\n",
    "print(\"Anderson Test Statistic=\", anderson_result.statistic)\n",
    "print(\"Anderson Significance level=\",anderson_result.significance_level)\n",
    "print(\"Anderson Critical values=\",anderson_result.critical_values)\n",
    "print(\"-----------------------------------------------------------\")\n",
    "\n",
    "# interpret results\n",
    "for i in range(len(anderson_result.critical_values)):\n",
    "    SignificaneLevel, CriticalValues = anderson_result.significance_level[i], anderson_result.critical_values[i]\n",
    "    if anderson_result.statistic < anderson_result.critical_values[i]:\n",
    "        print('At Significance level %.3f, critical value %.3f is greater than Test statistic %.3f, DATA LOOKS NORMAL(fail to reject H0)' % (SignificaneLevel, CriticalValues, anderson_result.statistic))\n",
    "    else:\n",
    "        print('At Significance level %.3f the critical value %.3f is less than Test statistic %.3f, DATA DOES NOT LOOK NORMAL(fail to reject H0)' % (SignificaneLevel, CriticalValues, anderson_result.statistic))"
   ]
  },
  {
   "cell_type": "markdown",
   "id": "a2aae8e0",
   "metadata": {},
   "source": [
    "* Critical values are basically range of pre-defined significance boundaries at which the H0 can be failed to be rejected if the calculated statistic is less than the critical value.So Anderson-Darling Test return critical values for different significance level instead of single p-value.\n",
    "* Results can be interpreted by failed Null Hypothesis if data is in normal distribution and test statistic value is less than the critical value at choosen significance level."
   ]
  },
  {
   "cell_type": "markdown",
   "id": "467c8b0f",
   "metadata": {},
   "source": [
    "### Frequently Asked Questions (FAQ) about a normality test\n",
    "\n",
    "* *1. Why should I do a normality test?* <br> \n",
    "Many statistical analysis tools require that the data being analyzed be approximately normal. The normality test will allow you to determine whether your data meets that requirement. \n",
    "\n",
    "\n",
    "\n",
    "* *2. What are the null and alternate hypotheses for the normality test?* <br> \n",
    "The null is that the data is not different from a normal distribution. The alternate is that the data is different from a normal distribution. \n",
    "\n",
    "\n",
    "\n",
    "* *3. Does sample size affect the normality test?* <br>\n",
    "Yes. The larger the sample size, the better you will be able to represent the distribution of your data. You may draw a false conclusion about the normality of your data if the sample size is too small. This may cause you to improperly use a statistical tool.\n",
    "\n",
    "\n",
    "\n",
    "* *4. Which Normality Test Should we Use?* <br>\n",
    "* Hard Fail\n",
    "The data may not be normal for lots of different reasons. Each test looks at the question of whether a sample was drawn from a Gaussian distribution from a slightly different perspective.A failure of one normality test means that the data is not normal. As simple as that.We can either investigate why our data is not normal and perhaps use data preparation techniques to make the data more normal.\n",
    "\n",
    "* Soft Fail\n",
    "If some of the methods suggest that the sample is Gaussian and some not, then perhaps take this as an indication that your data is Gaussian-like.In many situations, you can treat your data as though it is Gaussian and proceed with your chosen parametric statistical methods.\n",
    "\n",
    "\n"
   ]
  },
  {
   "cell_type": "markdown",
   "id": "a37e606e",
   "metadata": {},
   "source": [
    "> <span style='color:Blue'> Conclusion: </span> We have seen and learnt Normality tests and methods to Assess Normality in the data. Thank you for reading all the way to the end."
   ]
  }
 ],
 "metadata": {
  "kernelspec": {
   "display_name": "Python 3 (ipykernel)",
   "language": "python",
   "name": "python3"
  },
  "language_info": {
   "codemirror_mode": {
    "name": "ipython",
    "version": 3
   },
   "file_extension": ".py",
   "mimetype": "text/x-python",
   "name": "python",
   "nbconvert_exporter": "python",
   "pygments_lexer": "ipython3",
   "version": "3.9.12"
  }
 },
 "nbformat": 4,
 "nbformat_minor": 5
}
